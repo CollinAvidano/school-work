{
  "nbformat": 4,
  "nbformat_minor": 0,
  "metadata": {
    "colab": {
      "name": "TextClassification_solution.ipynb",
      "provenance": [],
      "collapsed_sections": [],
      "toc_visible": true
    },
    "kernelspec": {
      "name": "python3",
      "display_name": "Python 3"
    },
    "widgets": {
      "application/vnd.jupyter.widget-state+json": {
        "9503a983fd0149de9a44289ae92c2ab2": {
          "model_module": "@jupyter-widgets/controls",
          "model_name": "HBoxModel",
          "state": {
            "_view_name": "HBoxView",
            "_dom_classes": [],
            "_model_name": "HBoxModel",
            "_view_module": "@jupyter-widgets/controls",
            "_model_module_version": "1.5.0",
            "_view_count": null,
            "_view_module_version": "1.5.0",
            "box_style": "",
            "layout": "IPY_MODEL_3cd497ae7ac445c2afa9e2dd05009e29",
            "_model_module": "@jupyter-widgets/controls",
            "children": [
              "IPY_MODEL_ed6f47386c194017a0d82a03747bb7c7",
              "IPY_MODEL_2e168d05e69848a2b454d9f502c955a8"
            ]
          }
        },
        "3cd497ae7ac445c2afa9e2dd05009e29": {
          "model_module": "@jupyter-widgets/base",
          "model_name": "LayoutModel",
          "state": {
            "_view_name": "LayoutView",
            "grid_template_rows": null,
            "right": null,
            "justify_content": null,
            "_view_module": "@jupyter-widgets/base",
            "overflow": null,
            "_model_module_version": "1.2.0",
            "_view_count": null,
            "flex_flow": null,
            "width": null,
            "min_width": null,
            "border": null,
            "align_items": null,
            "bottom": null,
            "_model_module": "@jupyter-widgets/base",
            "top": null,
            "grid_column": null,
            "overflow_y": null,
            "overflow_x": null,
            "grid_auto_flow": null,
            "grid_area": null,
            "grid_template_columns": null,
            "flex": null,
            "_model_name": "LayoutModel",
            "justify_items": null,
            "grid_row": null,
            "max_height": null,
            "align_content": null,
            "visibility": null,
            "align_self": null,
            "height": null,
            "min_height": null,
            "padding": null,
            "grid_auto_rows": null,
            "grid_gap": null,
            "max_width": null,
            "order": null,
            "_view_module_version": "1.2.0",
            "grid_template_areas": null,
            "object_position": null,
            "object_fit": null,
            "grid_auto_columns": null,
            "margin": null,
            "display": null,
            "left": null
          }
        },
        "ed6f47386c194017a0d82a03747bb7c7": {
          "model_module": "@jupyter-widgets/controls",
          "model_name": "FloatProgressModel",
          "state": {
            "_view_name": "ProgressView",
            "style": "IPY_MODEL_d346838512db435da7b2a46ea5669a30",
            "_dom_classes": [],
            "description": "100%",
            "_model_name": "FloatProgressModel",
            "bar_style": "success",
            "max": 7222,
            "_view_module": "@jupyter-widgets/controls",
            "_model_module_version": "1.5.0",
            "value": 7222,
            "_view_count": null,
            "_view_module_version": "1.5.0",
            "orientation": "horizontal",
            "min": 0,
            "description_tooltip": null,
            "_model_module": "@jupyter-widgets/controls",
            "layout": "IPY_MODEL_3564998e33ac4cfe9a3f44dbf654d6a8"
          }
        },
        "2e168d05e69848a2b454d9f502c955a8": {
          "model_module": "@jupyter-widgets/controls",
          "model_name": "HTMLModel",
          "state": {
            "_view_name": "HTMLView",
            "style": "IPY_MODEL_ec87179581ce4f0fa92d5254c81cdd2b",
            "_dom_classes": [],
            "description": "",
            "_model_name": "HTMLModel",
            "placeholder": "​",
            "_view_module": "@jupyter-widgets/controls",
            "_model_module_version": "1.5.0",
            "value": " 7222/7222 [01:03&lt;00:00, 113.64it/s]",
            "_view_count": null,
            "_view_module_version": "1.5.0",
            "description_tooltip": null,
            "_model_module": "@jupyter-widgets/controls",
            "layout": "IPY_MODEL_180e85a76d944448b899565fe70e45e6"
          }
        },
        "d346838512db435da7b2a46ea5669a30": {
          "model_module": "@jupyter-widgets/controls",
          "model_name": "ProgressStyleModel",
          "state": {
            "_view_name": "StyleView",
            "_model_name": "ProgressStyleModel",
            "description_width": "initial",
            "_view_module": "@jupyter-widgets/base",
            "_model_module_version": "1.5.0",
            "_view_count": null,
            "_view_module_version": "1.2.0",
            "bar_color": null,
            "_model_module": "@jupyter-widgets/controls"
          }
        },
        "3564998e33ac4cfe9a3f44dbf654d6a8": {
          "model_module": "@jupyter-widgets/base",
          "model_name": "LayoutModel",
          "state": {
            "_view_name": "LayoutView",
            "grid_template_rows": null,
            "right": null,
            "justify_content": null,
            "_view_module": "@jupyter-widgets/base",
            "overflow": null,
            "_model_module_version": "1.2.0",
            "_view_count": null,
            "flex_flow": null,
            "width": null,
            "min_width": null,
            "border": null,
            "align_items": null,
            "bottom": null,
            "_model_module": "@jupyter-widgets/base",
            "top": null,
            "grid_column": null,
            "overflow_y": null,
            "overflow_x": null,
            "grid_auto_flow": null,
            "grid_area": null,
            "grid_template_columns": null,
            "flex": null,
            "_model_name": "LayoutModel",
            "justify_items": null,
            "grid_row": null,
            "max_height": null,
            "align_content": null,
            "visibility": null,
            "align_self": null,
            "height": null,
            "min_height": null,
            "padding": null,
            "grid_auto_rows": null,
            "grid_gap": null,
            "max_width": null,
            "order": null,
            "_view_module_version": "1.2.0",
            "grid_template_areas": null,
            "object_position": null,
            "object_fit": null,
            "grid_auto_columns": null,
            "margin": null,
            "display": null,
            "left": null
          }
        },
        "ec87179581ce4f0fa92d5254c81cdd2b": {
          "model_module": "@jupyter-widgets/controls",
          "model_name": "DescriptionStyleModel",
          "state": {
            "_view_name": "StyleView",
            "_model_name": "DescriptionStyleModel",
            "description_width": "",
            "_view_module": "@jupyter-widgets/base",
            "_model_module_version": "1.5.0",
            "_view_count": null,
            "_view_module_version": "1.2.0",
            "_model_module": "@jupyter-widgets/controls"
          }
        },
        "180e85a76d944448b899565fe70e45e6": {
          "model_module": "@jupyter-widgets/base",
          "model_name": "LayoutModel",
          "state": {
            "_view_name": "LayoutView",
            "grid_template_rows": null,
            "right": null,
            "justify_content": null,
            "_view_module": "@jupyter-widgets/base",
            "overflow": null,
            "_model_module_version": "1.2.0",
            "_view_count": null,
            "flex_flow": null,
            "width": null,
            "min_width": null,
            "border": null,
            "align_items": null,
            "bottom": null,
            "_model_module": "@jupyter-widgets/base",
            "top": null,
            "grid_column": null,
            "overflow_y": null,
            "overflow_x": null,
            "grid_auto_flow": null,
            "grid_area": null,
            "grid_template_columns": null,
            "flex": null,
            "_model_name": "LayoutModel",
            "justify_items": null,
            "grid_row": null,
            "max_height": null,
            "align_content": null,
            "visibility": null,
            "align_self": null,
            "height": null,
            "min_height": null,
            "padding": null,
            "grid_auto_rows": null,
            "grid_gap": null,
            "max_width": null,
            "order": null,
            "_view_module_version": "1.2.0",
            "grid_template_areas": null,
            "object_position": null,
            "object_fit": null,
            "grid_auto_columns": null,
            "margin": null,
            "display": null,
            "left": null
          }
        },
        "38478b0be28248a594fc31606dc2562f": {
          "model_module": "@jupyter-widgets/controls",
          "model_name": "HBoxModel",
          "state": {
            "_view_name": "HBoxView",
            "_dom_classes": [],
            "_model_name": "HBoxModel",
            "_view_module": "@jupyter-widgets/controls",
            "_model_module_version": "1.5.0",
            "_view_count": null,
            "_view_module_version": "1.5.0",
            "box_style": "",
            "layout": "IPY_MODEL_f5a4e22b07094038b70909f4d65167b2",
            "_model_module": "@jupyter-widgets/controls",
            "children": [
              "IPY_MODEL_caa54d0f7faf497cb7cecff931865471",
              "IPY_MODEL_47291d07659748f1b47ef7a532ddbe42"
            ]
          }
        },
        "f5a4e22b07094038b70909f4d65167b2": {
          "model_module": "@jupyter-widgets/base",
          "model_name": "LayoutModel",
          "state": {
            "_view_name": "LayoutView",
            "grid_template_rows": null,
            "right": null,
            "justify_content": null,
            "_view_module": "@jupyter-widgets/base",
            "overflow": null,
            "_model_module_version": "1.2.0",
            "_view_count": null,
            "flex_flow": null,
            "width": null,
            "min_width": null,
            "border": null,
            "align_items": null,
            "bottom": null,
            "_model_module": "@jupyter-widgets/base",
            "top": null,
            "grid_column": null,
            "overflow_y": null,
            "overflow_x": null,
            "grid_auto_flow": null,
            "grid_area": null,
            "grid_template_columns": null,
            "flex": null,
            "_model_name": "LayoutModel",
            "justify_items": null,
            "grid_row": null,
            "max_height": null,
            "align_content": null,
            "visibility": null,
            "align_self": null,
            "height": null,
            "min_height": null,
            "padding": null,
            "grid_auto_rows": null,
            "grid_gap": null,
            "max_width": null,
            "order": null,
            "_view_module_version": "1.2.0",
            "grid_template_areas": null,
            "object_position": null,
            "object_fit": null,
            "grid_auto_columns": null,
            "margin": null,
            "display": null,
            "left": null
          }
        },
        "caa54d0f7faf497cb7cecff931865471": {
          "model_module": "@jupyter-widgets/controls",
          "model_name": "FloatProgressModel",
          "state": {
            "_view_name": "ProgressView",
            "style": "IPY_MODEL_6333e542fab64570ac97f6982f084c6e",
            "_dom_classes": [],
            "description": "100%",
            "_model_name": "FloatProgressModel",
            "bar_style": "success",
            "max": 7222,
            "_view_module": "@jupyter-widgets/controls",
            "_model_module_version": "1.5.0",
            "value": 7222,
            "_view_count": null,
            "_view_module_version": "1.5.0",
            "orientation": "horizontal",
            "min": 0,
            "description_tooltip": null,
            "_model_module": "@jupyter-widgets/controls",
            "layout": "IPY_MODEL_73a3101e48124bbf9e43876e0cf66673"
          }
        },
        "47291d07659748f1b47ef7a532ddbe42": {
          "model_module": "@jupyter-widgets/controls",
          "model_name": "HTMLModel",
          "state": {
            "_view_name": "HTMLView",
            "style": "IPY_MODEL_227a1e87044143a6ba5d934bc12f5f20",
            "_dom_classes": [],
            "description": "",
            "_model_name": "HTMLModel",
            "placeholder": "​",
            "_view_module": "@jupyter-widgets/controls",
            "_model_module_version": "1.5.0",
            "value": " 7222/7222 [01:03&lt;00:00, 113.16it/s]",
            "_view_count": null,
            "_view_module_version": "1.5.0",
            "description_tooltip": null,
            "_model_module": "@jupyter-widgets/controls",
            "layout": "IPY_MODEL_cd5a0f1215514fab9377ce2ec401cc64"
          }
        },
        "6333e542fab64570ac97f6982f084c6e": {
          "model_module": "@jupyter-widgets/controls",
          "model_name": "ProgressStyleModel",
          "state": {
            "_view_name": "StyleView",
            "_model_name": "ProgressStyleModel",
            "description_width": "initial",
            "_view_module": "@jupyter-widgets/base",
            "_model_module_version": "1.5.0",
            "_view_count": null,
            "_view_module_version": "1.2.0",
            "bar_color": null,
            "_model_module": "@jupyter-widgets/controls"
          }
        },
        "73a3101e48124bbf9e43876e0cf66673": {
          "model_module": "@jupyter-widgets/base",
          "model_name": "LayoutModel",
          "state": {
            "_view_name": "LayoutView",
            "grid_template_rows": null,
            "right": null,
            "justify_content": null,
            "_view_module": "@jupyter-widgets/base",
            "overflow": null,
            "_model_module_version": "1.2.0",
            "_view_count": null,
            "flex_flow": null,
            "width": null,
            "min_width": null,
            "border": null,
            "align_items": null,
            "bottom": null,
            "_model_module": "@jupyter-widgets/base",
            "top": null,
            "grid_column": null,
            "overflow_y": null,
            "overflow_x": null,
            "grid_auto_flow": null,
            "grid_area": null,
            "grid_template_columns": null,
            "flex": null,
            "_model_name": "LayoutModel",
            "justify_items": null,
            "grid_row": null,
            "max_height": null,
            "align_content": null,
            "visibility": null,
            "align_self": null,
            "height": null,
            "min_height": null,
            "padding": null,
            "grid_auto_rows": null,
            "grid_gap": null,
            "max_width": null,
            "order": null,
            "_view_module_version": "1.2.0",
            "grid_template_areas": null,
            "object_position": null,
            "object_fit": null,
            "grid_auto_columns": null,
            "margin": null,
            "display": null,
            "left": null
          }
        },
        "227a1e87044143a6ba5d934bc12f5f20": {
          "model_module": "@jupyter-widgets/controls",
          "model_name": "DescriptionStyleModel",
          "state": {
            "_view_name": "StyleView",
            "_model_name": "DescriptionStyleModel",
            "description_width": "",
            "_view_module": "@jupyter-widgets/base",
            "_model_module_version": "1.5.0",
            "_view_count": null,
            "_view_module_version": "1.2.0",
            "_model_module": "@jupyter-widgets/controls"
          }
        },
        "cd5a0f1215514fab9377ce2ec401cc64": {
          "model_module": "@jupyter-widgets/base",
          "model_name": "LayoutModel",
          "state": {
            "_view_name": "LayoutView",
            "grid_template_rows": null,
            "right": null,
            "justify_content": null,
            "_view_module": "@jupyter-widgets/base",
            "overflow": null,
            "_model_module_version": "1.2.0",
            "_view_count": null,
            "flex_flow": null,
            "width": null,
            "min_width": null,
            "border": null,
            "align_items": null,
            "bottom": null,
            "_model_module": "@jupyter-widgets/base",
            "top": null,
            "grid_column": null,
            "overflow_y": null,
            "overflow_x": null,
            "grid_auto_flow": null,
            "grid_area": null,
            "grid_template_columns": null,
            "flex": null,
            "_model_name": "LayoutModel",
            "justify_items": null,
            "grid_row": null,
            "max_height": null,
            "align_content": null,
            "visibility": null,
            "align_self": null,
            "height": null,
            "min_height": null,
            "padding": null,
            "grid_auto_rows": null,
            "grid_gap": null,
            "max_width": null,
            "order": null,
            "_view_module_version": "1.2.0",
            "grid_template_areas": null,
            "object_position": null,
            "object_fit": null,
            "grid_auto_columns": null,
            "margin": null,
            "display": null,
            "left": null
          }
        },
        "4ed27ce972154d779b6c4966cd076cd9": {
          "model_module": "@jupyter-widgets/controls",
          "model_name": "HBoxModel",
          "state": {
            "_view_name": "HBoxView",
            "_dom_classes": [],
            "_model_name": "HBoxModel",
            "_view_module": "@jupyter-widgets/controls",
            "_model_module_version": "1.5.0",
            "_view_count": null,
            "_view_module_version": "1.5.0",
            "box_style": "",
            "layout": "IPY_MODEL_021eccfcc81b4f9886e9df00400a781b",
            "_model_module": "@jupyter-widgets/controls",
            "children": [
              "IPY_MODEL_a3d6c4e5d1e44c0b9e7f358bf8973f66",
              "IPY_MODEL_c3788fb015c04c0e83f12a22dbb83607"
            ]
          }
        },
        "021eccfcc81b4f9886e9df00400a781b": {
          "model_module": "@jupyter-widgets/base",
          "model_name": "LayoutModel",
          "state": {
            "_view_name": "LayoutView",
            "grid_template_rows": null,
            "right": null,
            "justify_content": null,
            "_view_module": "@jupyter-widgets/base",
            "overflow": null,
            "_model_module_version": "1.2.0",
            "_view_count": null,
            "flex_flow": null,
            "width": null,
            "min_width": null,
            "border": null,
            "align_items": null,
            "bottom": null,
            "_model_module": "@jupyter-widgets/base",
            "top": null,
            "grid_column": null,
            "overflow_y": null,
            "overflow_x": null,
            "grid_auto_flow": null,
            "grid_area": null,
            "grid_template_columns": null,
            "flex": null,
            "_model_name": "LayoutModel",
            "justify_items": null,
            "grid_row": null,
            "max_height": null,
            "align_content": null,
            "visibility": null,
            "align_self": null,
            "height": null,
            "min_height": null,
            "padding": null,
            "grid_auto_rows": null,
            "grid_gap": null,
            "max_width": null,
            "order": null,
            "_view_module_version": "1.2.0",
            "grid_template_areas": null,
            "object_position": null,
            "object_fit": null,
            "grid_auto_columns": null,
            "margin": null,
            "display": null,
            "left": null
          }
        },
        "a3d6c4e5d1e44c0b9e7f358bf8973f66": {
          "model_module": "@jupyter-widgets/controls",
          "model_name": "FloatProgressModel",
          "state": {
            "_view_name": "ProgressView",
            "style": "IPY_MODEL_7ee496b6b3744f2681ca76758713f67c",
            "_dom_classes": [],
            "description": "100%",
            "_model_name": "FloatProgressModel",
            "bar_style": "success",
            "max": 7222,
            "_view_module": "@jupyter-widgets/controls",
            "_model_module_version": "1.5.0",
            "value": 7222,
            "_view_count": null,
            "_view_module_version": "1.5.0",
            "orientation": "horizontal",
            "min": 0,
            "description_tooltip": null,
            "_model_module": "@jupyter-widgets/controls",
            "layout": "IPY_MODEL_4d8b3075640d4a52a3574d5f013712bc"
          }
        },
        "c3788fb015c04c0e83f12a22dbb83607": {
          "model_module": "@jupyter-widgets/controls",
          "model_name": "HTMLModel",
          "state": {
            "_view_name": "HTMLView",
            "style": "IPY_MODEL_0f12747be8df447ba6007c818b7b5fc1",
            "_dom_classes": [],
            "description": "",
            "_model_name": "HTMLModel",
            "placeholder": "​",
            "_view_module": "@jupyter-widgets/controls",
            "_model_module_version": "1.5.0",
            "value": " 7222/7222 [01:04&lt;00:00, 112.70it/s]",
            "_view_count": null,
            "_view_module_version": "1.5.0",
            "description_tooltip": null,
            "_model_module": "@jupyter-widgets/controls",
            "layout": "IPY_MODEL_448a44b268264331b49b6594e4698d6a"
          }
        },
        "7ee496b6b3744f2681ca76758713f67c": {
          "model_module": "@jupyter-widgets/controls",
          "model_name": "ProgressStyleModel",
          "state": {
            "_view_name": "StyleView",
            "_model_name": "ProgressStyleModel",
            "description_width": "initial",
            "_view_module": "@jupyter-widgets/base",
            "_model_module_version": "1.5.0",
            "_view_count": null,
            "_view_module_version": "1.2.0",
            "bar_color": null,
            "_model_module": "@jupyter-widgets/controls"
          }
        },
        "4d8b3075640d4a52a3574d5f013712bc": {
          "model_module": "@jupyter-widgets/base",
          "model_name": "LayoutModel",
          "state": {
            "_view_name": "LayoutView",
            "grid_template_rows": null,
            "right": null,
            "justify_content": null,
            "_view_module": "@jupyter-widgets/base",
            "overflow": null,
            "_model_module_version": "1.2.0",
            "_view_count": null,
            "flex_flow": null,
            "width": null,
            "min_width": null,
            "border": null,
            "align_items": null,
            "bottom": null,
            "_model_module": "@jupyter-widgets/base",
            "top": null,
            "grid_column": null,
            "overflow_y": null,
            "overflow_x": null,
            "grid_auto_flow": null,
            "grid_area": null,
            "grid_template_columns": null,
            "flex": null,
            "_model_name": "LayoutModel",
            "justify_items": null,
            "grid_row": null,
            "max_height": null,
            "align_content": null,
            "visibility": null,
            "align_self": null,
            "height": null,
            "min_height": null,
            "padding": null,
            "grid_auto_rows": null,
            "grid_gap": null,
            "max_width": null,
            "order": null,
            "_view_module_version": "1.2.0",
            "grid_template_areas": null,
            "object_position": null,
            "object_fit": null,
            "grid_auto_columns": null,
            "margin": null,
            "display": null,
            "left": null
          }
        },
        "0f12747be8df447ba6007c818b7b5fc1": {
          "model_module": "@jupyter-widgets/controls",
          "model_name": "DescriptionStyleModel",
          "state": {
            "_view_name": "StyleView",
            "_model_name": "DescriptionStyleModel",
            "description_width": "",
            "_view_module": "@jupyter-widgets/base",
            "_model_module_version": "1.5.0",
            "_view_count": null,
            "_view_module_version": "1.2.0",
            "_model_module": "@jupyter-widgets/controls"
          }
        },
        "448a44b268264331b49b6594e4698d6a": {
          "model_module": "@jupyter-widgets/base",
          "model_name": "LayoutModel",
          "state": {
            "_view_name": "LayoutView",
            "grid_template_rows": null,
            "right": null,
            "justify_content": null,
            "_view_module": "@jupyter-widgets/base",
            "overflow": null,
            "_model_module_version": "1.2.0",
            "_view_count": null,
            "flex_flow": null,
            "width": null,
            "min_width": null,
            "border": null,
            "align_items": null,
            "bottom": null,
            "_model_module": "@jupyter-widgets/base",
            "top": null,
            "grid_column": null,
            "overflow_y": null,
            "overflow_x": null,
            "grid_auto_flow": null,
            "grid_area": null,
            "grid_template_columns": null,
            "flex": null,
            "_model_name": "LayoutModel",
            "justify_items": null,
            "grid_row": null,
            "max_height": null,
            "align_content": null,
            "visibility": null,
            "align_self": null,
            "height": null,
            "min_height": null,
            "padding": null,
            "grid_auto_rows": null,
            "grid_gap": null,
            "max_width": null,
            "order": null,
            "_view_module_version": "1.2.0",
            "grid_template_areas": null,
            "object_position": null,
            "object_fit": null,
            "grid_auto_columns": null,
            "margin": null,
            "display": null,
            "left": null
          }
        },
        "9eb527e904b74883b4d6df6b3b2980c5": {
          "model_module": "@jupyter-widgets/controls",
          "model_name": "HBoxModel",
          "state": {
            "_view_name": "HBoxView",
            "_dom_classes": [],
            "_model_name": "HBoxModel",
            "_view_module": "@jupyter-widgets/controls",
            "_model_module_version": "1.5.0",
            "_view_count": null,
            "_view_module_version": "1.5.0",
            "box_style": "",
            "layout": "IPY_MODEL_be8fd78c8edd49c08a48382ed26ba4d2",
            "_model_module": "@jupyter-widgets/controls",
            "children": [
              "IPY_MODEL_92f8d76a9f6b4251abcae4e5166c6261",
              "IPY_MODEL_bc70176b0a2f42529d97f42691cfcec2"
            ]
          }
        },
        "be8fd78c8edd49c08a48382ed26ba4d2": {
          "model_module": "@jupyter-widgets/base",
          "model_name": "LayoutModel",
          "state": {
            "_view_name": "LayoutView",
            "grid_template_rows": null,
            "right": null,
            "justify_content": null,
            "_view_module": "@jupyter-widgets/base",
            "overflow": null,
            "_model_module_version": "1.2.0",
            "_view_count": null,
            "flex_flow": null,
            "width": null,
            "min_width": null,
            "border": null,
            "align_items": null,
            "bottom": null,
            "_model_module": "@jupyter-widgets/base",
            "top": null,
            "grid_column": null,
            "overflow_y": null,
            "overflow_x": null,
            "grid_auto_flow": null,
            "grid_area": null,
            "grid_template_columns": null,
            "flex": null,
            "_model_name": "LayoutModel",
            "justify_items": null,
            "grid_row": null,
            "max_height": null,
            "align_content": null,
            "visibility": null,
            "align_self": null,
            "height": null,
            "min_height": null,
            "padding": null,
            "grid_auto_rows": null,
            "grid_gap": null,
            "max_width": null,
            "order": null,
            "_view_module_version": "1.2.0",
            "grid_template_areas": null,
            "object_position": null,
            "object_fit": null,
            "grid_auto_columns": null,
            "margin": null,
            "display": null,
            "left": null
          }
        },
        "92f8d76a9f6b4251abcae4e5166c6261": {
          "model_module": "@jupyter-widgets/controls",
          "model_name": "FloatProgressModel",
          "state": {
            "_view_name": "ProgressView",
            "style": "IPY_MODEL_4684fa0aca464cdaa07cacdd46bac992",
            "_dom_classes": [],
            "description": "100%",
            "_model_name": "FloatProgressModel",
            "bar_style": "success",
            "max": 7222,
            "_view_module": "@jupyter-widgets/controls",
            "_model_module_version": "1.5.0",
            "value": 7222,
            "_view_count": null,
            "_view_module_version": "1.5.0",
            "orientation": "horizontal",
            "min": 0,
            "description_tooltip": null,
            "_model_module": "@jupyter-widgets/controls",
            "layout": "IPY_MODEL_a478df85ecc54e78b4c216fd3a12f00f"
          }
        },
        "bc70176b0a2f42529d97f42691cfcec2": {
          "model_module": "@jupyter-widgets/controls",
          "model_name": "HTMLModel",
          "state": {
            "_view_name": "HTMLView",
            "style": "IPY_MODEL_ea395eea14b44149acf095a69530e962",
            "_dom_classes": [],
            "description": "",
            "_model_name": "HTMLModel",
            "placeholder": "​",
            "_view_module": "@jupyter-widgets/controls",
            "_model_module_version": "1.5.0",
            "value": " 7222/7222 [01:04&lt;00:00, 112.33it/s]",
            "_view_count": null,
            "_view_module_version": "1.5.0",
            "description_tooltip": null,
            "_model_module": "@jupyter-widgets/controls",
            "layout": "IPY_MODEL_4aac8904926e4de99919cb2ff3357b8b"
          }
        },
        "4684fa0aca464cdaa07cacdd46bac992": {
          "model_module": "@jupyter-widgets/controls",
          "model_name": "ProgressStyleModel",
          "state": {
            "_view_name": "StyleView",
            "_model_name": "ProgressStyleModel",
            "description_width": "initial",
            "_view_module": "@jupyter-widgets/base",
            "_model_module_version": "1.5.0",
            "_view_count": null,
            "_view_module_version": "1.2.0",
            "bar_color": null,
            "_model_module": "@jupyter-widgets/controls"
          }
        },
        "a478df85ecc54e78b4c216fd3a12f00f": {
          "model_module": "@jupyter-widgets/base",
          "model_name": "LayoutModel",
          "state": {
            "_view_name": "LayoutView",
            "grid_template_rows": null,
            "right": null,
            "justify_content": null,
            "_view_module": "@jupyter-widgets/base",
            "overflow": null,
            "_model_module_version": "1.2.0",
            "_view_count": null,
            "flex_flow": null,
            "width": null,
            "min_width": null,
            "border": null,
            "align_items": null,
            "bottom": null,
            "_model_module": "@jupyter-widgets/base",
            "top": null,
            "grid_column": null,
            "overflow_y": null,
            "overflow_x": null,
            "grid_auto_flow": null,
            "grid_area": null,
            "grid_template_columns": null,
            "flex": null,
            "_model_name": "LayoutModel",
            "justify_items": null,
            "grid_row": null,
            "max_height": null,
            "align_content": null,
            "visibility": null,
            "align_self": null,
            "height": null,
            "min_height": null,
            "padding": null,
            "grid_auto_rows": null,
            "grid_gap": null,
            "max_width": null,
            "order": null,
            "_view_module_version": "1.2.0",
            "grid_template_areas": null,
            "object_position": null,
            "object_fit": null,
            "grid_auto_columns": null,
            "margin": null,
            "display": null,
            "left": null
          }
        },
        "ea395eea14b44149acf095a69530e962": {
          "model_module": "@jupyter-widgets/controls",
          "model_name": "DescriptionStyleModel",
          "state": {
            "_view_name": "StyleView",
            "_model_name": "DescriptionStyleModel",
            "description_width": "",
            "_view_module": "@jupyter-widgets/base",
            "_model_module_version": "1.5.0",
            "_view_count": null,
            "_view_module_version": "1.2.0",
            "_model_module": "@jupyter-widgets/controls"
          }
        },
        "4aac8904926e4de99919cb2ff3357b8b": {
          "model_module": "@jupyter-widgets/base",
          "model_name": "LayoutModel",
          "state": {
            "_view_name": "LayoutView",
            "grid_template_rows": null,
            "right": null,
            "justify_content": null,
            "_view_module": "@jupyter-widgets/base",
            "overflow": null,
            "_model_module_version": "1.2.0",
            "_view_count": null,
            "flex_flow": null,
            "width": null,
            "min_width": null,
            "border": null,
            "align_items": null,
            "bottom": null,
            "_model_module": "@jupyter-widgets/base",
            "top": null,
            "grid_column": null,
            "overflow_y": null,
            "overflow_x": null,
            "grid_auto_flow": null,
            "grid_area": null,
            "grid_template_columns": null,
            "flex": null,
            "_model_name": "LayoutModel",
            "justify_items": null,
            "grid_row": null,
            "max_height": null,
            "align_content": null,
            "visibility": null,
            "align_self": null,
            "height": null,
            "min_height": null,
            "padding": null,
            "grid_auto_rows": null,
            "grid_gap": null,
            "max_width": null,
            "order": null,
            "_view_module_version": "1.2.0",
            "grid_template_areas": null,
            "object_position": null,
            "object_fit": null,
            "grid_auto_columns": null,
            "margin": null,
            "display": null,
            "left": null
          }
        },
        "959e31b16b4e43f0bdeb7c89cadd3303": {
          "model_module": "@jupyter-widgets/controls",
          "model_name": "HBoxModel",
          "state": {
            "_view_name": "HBoxView",
            "_dom_classes": [],
            "_model_name": "HBoxModel",
            "_view_module": "@jupyter-widgets/controls",
            "_model_module_version": "1.5.0",
            "_view_count": null,
            "_view_module_version": "1.5.0",
            "box_style": "",
            "layout": "IPY_MODEL_745c93e63b7147b5905a42e3c7e7d070",
            "_model_module": "@jupyter-widgets/controls",
            "children": [
              "IPY_MODEL_49bd268861d6407eab694d23f2c1c3c8",
              "IPY_MODEL_0b332ddcac254d8395a23bf06ab1dfe3"
            ]
          }
        },
        "745c93e63b7147b5905a42e3c7e7d070": {
          "model_module": "@jupyter-widgets/base",
          "model_name": "LayoutModel",
          "state": {
            "_view_name": "LayoutView",
            "grid_template_rows": null,
            "right": null,
            "justify_content": null,
            "_view_module": "@jupyter-widgets/base",
            "overflow": null,
            "_model_module_version": "1.2.0",
            "_view_count": null,
            "flex_flow": null,
            "width": null,
            "min_width": null,
            "border": null,
            "align_items": null,
            "bottom": null,
            "_model_module": "@jupyter-widgets/base",
            "top": null,
            "grid_column": null,
            "overflow_y": null,
            "overflow_x": null,
            "grid_auto_flow": null,
            "grid_area": null,
            "grid_template_columns": null,
            "flex": null,
            "_model_name": "LayoutModel",
            "justify_items": null,
            "grid_row": null,
            "max_height": null,
            "align_content": null,
            "visibility": null,
            "align_self": null,
            "height": null,
            "min_height": null,
            "padding": null,
            "grid_auto_rows": null,
            "grid_gap": null,
            "max_width": null,
            "order": null,
            "_view_module_version": "1.2.0",
            "grid_template_areas": null,
            "object_position": null,
            "object_fit": null,
            "grid_auto_columns": null,
            "margin": null,
            "display": null,
            "left": null
          }
        },
        "49bd268861d6407eab694d23f2c1c3c8": {
          "model_module": "@jupyter-widgets/controls",
          "model_name": "FloatProgressModel",
          "state": {
            "_view_name": "ProgressView",
            "style": "IPY_MODEL_dba9ba9d1d0c4493b40815f49c372e2a",
            "_dom_classes": [],
            "description": "100%",
            "_model_name": "FloatProgressModel",
            "bar_style": "success",
            "max": 7222,
            "_view_module": "@jupyter-widgets/controls",
            "_model_module_version": "1.5.0",
            "value": 7222,
            "_view_count": null,
            "_view_module_version": "1.5.0",
            "orientation": "horizontal",
            "min": 0,
            "description_tooltip": null,
            "_model_module": "@jupyter-widgets/controls",
            "layout": "IPY_MODEL_f4419895b05d42b4a5dedd1ce995d4c3"
          }
        },
        "0b332ddcac254d8395a23bf06ab1dfe3": {
          "model_module": "@jupyter-widgets/controls",
          "model_name": "HTMLModel",
          "state": {
            "_view_name": "HTMLView",
            "style": "IPY_MODEL_a1784bbb821c4d2ba7129bbbc05dee8c",
            "_dom_classes": [],
            "description": "",
            "_model_name": "HTMLModel",
            "placeholder": "​",
            "_view_module": "@jupyter-widgets/controls",
            "_model_module_version": "1.5.0",
            "value": " 7222/7222 [01:04&lt;00:00, 112.28it/s]",
            "_view_count": null,
            "_view_module_version": "1.5.0",
            "description_tooltip": null,
            "_model_module": "@jupyter-widgets/controls",
            "layout": "IPY_MODEL_c37652a02195438daa717b8b60a29f22"
          }
        },
        "dba9ba9d1d0c4493b40815f49c372e2a": {
          "model_module": "@jupyter-widgets/controls",
          "model_name": "ProgressStyleModel",
          "state": {
            "_view_name": "StyleView",
            "_model_name": "ProgressStyleModel",
            "description_width": "initial",
            "_view_module": "@jupyter-widgets/base",
            "_model_module_version": "1.5.0",
            "_view_count": null,
            "_view_module_version": "1.2.0",
            "bar_color": null,
            "_model_module": "@jupyter-widgets/controls"
          }
        },
        "f4419895b05d42b4a5dedd1ce995d4c3": {
          "model_module": "@jupyter-widgets/base",
          "model_name": "LayoutModel",
          "state": {
            "_view_name": "LayoutView",
            "grid_template_rows": null,
            "right": null,
            "justify_content": null,
            "_view_module": "@jupyter-widgets/base",
            "overflow": null,
            "_model_module_version": "1.2.0",
            "_view_count": null,
            "flex_flow": null,
            "width": null,
            "min_width": null,
            "border": null,
            "align_items": null,
            "bottom": null,
            "_model_module": "@jupyter-widgets/base",
            "top": null,
            "grid_column": null,
            "overflow_y": null,
            "overflow_x": null,
            "grid_auto_flow": null,
            "grid_area": null,
            "grid_template_columns": null,
            "flex": null,
            "_model_name": "LayoutModel",
            "justify_items": null,
            "grid_row": null,
            "max_height": null,
            "align_content": null,
            "visibility": null,
            "align_self": null,
            "height": null,
            "min_height": null,
            "padding": null,
            "grid_auto_rows": null,
            "grid_gap": null,
            "max_width": null,
            "order": null,
            "_view_module_version": "1.2.0",
            "grid_template_areas": null,
            "object_position": null,
            "object_fit": null,
            "grid_auto_columns": null,
            "margin": null,
            "display": null,
            "left": null
          }
        },
        "a1784bbb821c4d2ba7129bbbc05dee8c": {
          "model_module": "@jupyter-widgets/controls",
          "model_name": "DescriptionStyleModel",
          "state": {
            "_view_name": "StyleView",
            "_model_name": "DescriptionStyleModel",
            "description_width": "",
            "_view_module": "@jupyter-widgets/base",
            "_model_module_version": "1.5.0",
            "_view_count": null,
            "_view_module_version": "1.2.0",
            "_model_module": "@jupyter-widgets/controls"
          }
        },
        "c37652a02195438daa717b8b60a29f22": {
          "model_module": "@jupyter-widgets/base",
          "model_name": "LayoutModel",
          "state": {
            "_view_name": "LayoutView",
            "grid_template_rows": null,
            "right": null,
            "justify_content": null,
            "_view_module": "@jupyter-widgets/base",
            "overflow": null,
            "_model_module_version": "1.2.0",
            "_view_count": null,
            "flex_flow": null,
            "width": null,
            "min_width": null,
            "border": null,
            "align_items": null,
            "bottom": null,
            "_model_module": "@jupyter-widgets/base",
            "top": null,
            "grid_column": null,
            "overflow_y": null,
            "overflow_x": null,
            "grid_auto_flow": null,
            "grid_area": null,
            "grid_template_columns": null,
            "flex": null,
            "_model_name": "LayoutModel",
            "justify_items": null,
            "grid_row": null,
            "max_height": null,
            "align_content": null,
            "visibility": null,
            "align_self": null,
            "height": null,
            "min_height": null,
            "padding": null,
            "grid_auto_rows": null,
            "grid_gap": null,
            "max_width": null,
            "order": null,
            "_view_module_version": "1.2.0",
            "grid_template_areas": null,
            "object_position": null,
            "object_fit": null,
            "grid_auto_columns": null,
            "margin": null,
            "display": null,
            "left": null
          }
        },
        "2fb1e2a7e0cd42939846cf9ed8916823": {
          "model_module": "@jupyter-widgets/controls",
          "model_name": "HBoxModel",
          "state": {
            "_view_name": "HBoxView",
            "_dom_classes": [],
            "_model_name": "HBoxModel",
            "_view_module": "@jupyter-widgets/controls",
            "_model_module_version": "1.5.0",
            "_view_count": null,
            "_view_module_version": "1.5.0",
            "box_style": "",
            "layout": "IPY_MODEL_bdb9a83f57224ca1a37446689cc8da3a",
            "_model_module": "@jupyter-widgets/controls",
            "children": [
              "IPY_MODEL_1f7f8d288431417488559d5ab0900fb1",
              "IPY_MODEL_9d5cc4945cf04e55a835fd0326a1d91c"
            ]
          }
        },
        "bdb9a83f57224ca1a37446689cc8da3a": {
          "model_module": "@jupyter-widgets/base",
          "model_name": "LayoutModel",
          "state": {
            "_view_name": "LayoutView",
            "grid_template_rows": null,
            "right": null,
            "justify_content": null,
            "_view_module": "@jupyter-widgets/base",
            "overflow": null,
            "_model_module_version": "1.2.0",
            "_view_count": null,
            "flex_flow": null,
            "width": null,
            "min_width": null,
            "border": null,
            "align_items": null,
            "bottom": null,
            "_model_module": "@jupyter-widgets/base",
            "top": null,
            "grid_column": null,
            "overflow_y": null,
            "overflow_x": null,
            "grid_auto_flow": null,
            "grid_area": null,
            "grid_template_columns": null,
            "flex": null,
            "_model_name": "LayoutModel",
            "justify_items": null,
            "grid_row": null,
            "max_height": null,
            "align_content": null,
            "visibility": null,
            "align_self": null,
            "height": null,
            "min_height": null,
            "padding": null,
            "grid_auto_rows": null,
            "grid_gap": null,
            "max_width": null,
            "order": null,
            "_view_module_version": "1.2.0",
            "grid_template_areas": null,
            "object_position": null,
            "object_fit": null,
            "grid_auto_columns": null,
            "margin": null,
            "display": null,
            "left": null
          }
        },
        "1f7f8d288431417488559d5ab0900fb1": {
          "model_module": "@jupyter-widgets/controls",
          "model_name": "FloatProgressModel",
          "state": {
            "_view_name": "ProgressView",
            "style": "IPY_MODEL_1a205e5ca13440f7abfe14b9583ac358",
            "_dom_classes": [],
            "description": "100%",
            "_model_name": "FloatProgressModel",
            "bar_style": "success",
            "max": 7222,
            "_view_module": "@jupyter-widgets/controls",
            "_model_module_version": "1.5.0",
            "value": 7222,
            "_view_count": null,
            "_view_module_version": "1.5.0",
            "orientation": "horizontal",
            "min": 0,
            "description_tooltip": null,
            "_model_module": "@jupyter-widgets/controls",
            "layout": "IPY_MODEL_8ca425dba3b4450789fe1de786f1236e"
          }
        },
        "9d5cc4945cf04e55a835fd0326a1d91c": {
          "model_module": "@jupyter-widgets/controls",
          "model_name": "HTMLModel",
          "state": {
            "_view_name": "HTMLView",
            "style": "IPY_MODEL_57f778049fd2406cbb5f6bc05d5e6d8b",
            "_dom_classes": [],
            "description": "",
            "_model_name": "HTMLModel",
            "placeholder": "​",
            "_view_module": "@jupyter-widgets/controls",
            "_model_module_version": "1.5.0",
            "value": " 7222/7222 [00:00&lt;00:00, 51942.16it/s]",
            "_view_count": null,
            "_view_module_version": "1.5.0",
            "description_tooltip": null,
            "_model_module": "@jupyter-widgets/controls",
            "layout": "IPY_MODEL_285f9a3f82c647dca08a149fa57d91b4"
          }
        },
        "1a205e5ca13440f7abfe14b9583ac358": {
          "model_module": "@jupyter-widgets/controls",
          "model_name": "ProgressStyleModel",
          "state": {
            "_view_name": "StyleView",
            "_model_name": "ProgressStyleModel",
            "description_width": "initial",
            "_view_module": "@jupyter-widgets/base",
            "_model_module_version": "1.5.0",
            "_view_count": null,
            "_view_module_version": "1.2.0",
            "bar_color": null,
            "_model_module": "@jupyter-widgets/controls"
          }
        },
        "8ca425dba3b4450789fe1de786f1236e": {
          "model_module": "@jupyter-widgets/base",
          "model_name": "LayoutModel",
          "state": {
            "_view_name": "LayoutView",
            "grid_template_rows": null,
            "right": null,
            "justify_content": null,
            "_view_module": "@jupyter-widgets/base",
            "overflow": null,
            "_model_module_version": "1.2.0",
            "_view_count": null,
            "flex_flow": null,
            "width": null,
            "min_width": null,
            "border": null,
            "align_items": null,
            "bottom": null,
            "_model_module": "@jupyter-widgets/base",
            "top": null,
            "grid_column": null,
            "overflow_y": null,
            "overflow_x": null,
            "grid_auto_flow": null,
            "grid_area": null,
            "grid_template_columns": null,
            "flex": null,
            "_model_name": "LayoutModel",
            "justify_items": null,
            "grid_row": null,
            "max_height": null,
            "align_content": null,
            "visibility": null,
            "align_self": null,
            "height": null,
            "min_height": null,
            "padding": null,
            "grid_auto_rows": null,
            "grid_gap": null,
            "max_width": null,
            "order": null,
            "_view_module_version": "1.2.0",
            "grid_template_areas": null,
            "object_position": null,
            "object_fit": null,
            "grid_auto_columns": null,
            "margin": null,
            "display": null,
            "left": null
          }
        },
        "57f778049fd2406cbb5f6bc05d5e6d8b": {
          "model_module": "@jupyter-widgets/controls",
          "model_name": "DescriptionStyleModel",
          "state": {
            "_view_name": "StyleView",
            "_model_name": "DescriptionStyleModel",
            "description_width": "",
            "_view_module": "@jupyter-widgets/base",
            "_model_module_version": "1.5.0",
            "_view_count": null,
            "_view_module_version": "1.2.0",
            "_model_module": "@jupyter-widgets/controls"
          }
        },
        "285f9a3f82c647dca08a149fa57d91b4": {
          "model_module": "@jupyter-widgets/base",
          "model_name": "LayoutModel",
          "state": {
            "_view_name": "LayoutView",
            "grid_template_rows": null,
            "right": null,
            "justify_content": null,
            "_view_module": "@jupyter-widgets/base",
            "overflow": null,
            "_model_module_version": "1.2.0",
            "_view_count": null,
            "flex_flow": null,
            "width": null,
            "min_width": null,
            "border": null,
            "align_items": null,
            "bottom": null,
            "_model_module": "@jupyter-widgets/base",
            "top": null,
            "grid_column": null,
            "overflow_y": null,
            "overflow_x": null,
            "grid_auto_flow": null,
            "grid_area": null,
            "grid_template_columns": null,
            "flex": null,
            "_model_name": "LayoutModel",
            "justify_items": null,
            "grid_row": null,
            "max_height": null,
            "align_content": null,
            "visibility": null,
            "align_self": null,
            "height": null,
            "min_height": null,
            "padding": null,
            "grid_auto_rows": null,
            "grid_gap": null,
            "max_width": null,
            "order": null,
            "_view_module_version": "1.2.0",
            "grid_template_areas": null,
            "object_position": null,
            "object_fit": null,
            "grid_auto_columns": null,
            "margin": null,
            "display": null,
            "left": null
          }
        },
        "391f28c37b5f49799316b5c1aa51494e": {
          "model_module": "@jupyter-widgets/controls",
          "model_name": "HBoxModel",
          "state": {
            "_view_name": "HBoxView",
            "_dom_classes": [],
            "_model_name": "HBoxModel",
            "_view_module": "@jupyter-widgets/controls",
            "_model_module_version": "1.5.0",
            "_view_count": null,
            "_view_module_version": "1.5.0",
            "box_style": "",
            "layout": "IPY_MODEL_6108bd4c32ba499bbb6900818fa989ed",
            "_model_module": "@jupyter-widgets/controls",
            "children": [
              "IPY_MODEL_24bd1b45ff46444083ab69dc57273f95",
              "IPY_MODEL_94d37e4e66e043a99b3a2334356ce906"
            ]
          }
        },
        "6108bd4c32ba499bbb6900818fa989ed": {
          "model_module": "@jupyter-widgets/base",
          "model_name": "LayoutModel",
          "state": {
            "_view_name": "LayoutView",
            "grid_template_rows": null,
            "right": null,
            "justify_content": null,
            "_view_module": "@jupyter-widgets/base",
            "overflow": null,
            "_model_module_version": "1.2.0",
            "_view_count": null,
            "flex_flow": null,
            "width": null,
            "min_width": null,
            "border": null,
            "align_items": null,
            "bottom": null,
            "_model_module": "@jupyter-widgets/base",
            "top": null,
            "grid_column": null,
            "overflow_y": null,
            "overflow_x": null,
            "grid_auto_flow": null,
            "grid_area": null,
            "grid_template_columns": null,
            "flex": null,
            "_model_name": "LayoutModel",
            "justify_items": null,
            "grid_row": null,
            "max_height": null,
            "align_content": null,
            "visibility": null,
            "align_self": null,
            "height": null,
            "min_height": null,
            "padding": null,
            "grid_auto_rows": null,
            "grid_gap": null,
            "max_width": null,
            "order": null,
            "_view_module_version": "1.2.0",
            "grid_template_areas": null,
            "object_position": null,
            "object_fit": null,
            "grid_auto_columns": null,
            "margin": null,
            "display": null,
            "left": null
          }
        },
        "24bd1b45ff46444083ab69dc57273f95": {
          "model_module": "@jupyter-widgets/controls",
          "model_name": "FloatProgressModel",
          "state": {
            "_view_name": "ProgressView",
            "style": "IPY_MODEL_a25c337bd5c04b10be245387cc59aae8",
            "_dom_classes": [],
            "description": "100%",
            "_model_name": "FloatProgressModel",
            "bar_style": "success",
            "max": 7222,
            "_view_module": "@jupyter-widgets/controls",
            "_model_module_version": "1.5.0",
            "value": 7222,
            "_view_count": null,
            "_view_module_version": "1.5.0",
            "orientation": "horizontal",
            "min": 0,
            "description_tooltip": null,
            "_model_module": "@jupyter-widgets/controls",
            "layout": "IPY_MODEL_b5179f9e83b84460bb7cc43148fe93b1"
          }
        },
        "94d37e4e66e043a99b3a2334356ce906": {
          "model_module": "@jupyter-widgets/controls",
          "model_name": "HTMLModel",
          "state": {
            "_view_name": "HTMLView",
            "style": "IPY_MODEL_9328dfad2d0e46c487f4881389389884",
            "_dom_classes": [],
            "description": "",
            "_model_name": "HTMLModel",
            "placeholder": "​",
            "_view_module": "@jupyter-widgets/controls",
            "_model_module_version": "1.5.0",
            "value": " 7222/7222 [00:00&lt;00:00, 208990.30it/s]",
            "_view_count": null,
            "_view_module_version": "1.5.0",
            "description_tooltip": null,
            "_model_module": "@jupyter-widgets/controls",
            "layout": "IPY_MODEL_6a5294dae1304e458f80563cce444058"
          }
        },
        "a25c337bd5c04b10be245387cc59aae8": {
          "model_module": "@jupyter-widgets/controls",
          "model_name": "ProgressStyleModel",
          "state": {
            "_view_name": "StyleView",
            "_model_name": "ProgressStyleModel",
            "description_width": "initial",
            "_view_module": "@jupyter-widgets/base",
            "_model_module_version": "1.5.0",
            "_view_count": null,
            "_view_module_version": "1.2.0",
            "bar_color": null,
            "_model_module": "@jupyter-widgets/controls"
          }
        },
        "b5179f9e83b84460bb7cc43148fe93b1": {
          "model_module": "@jupyter-widgets/base",
          "model_name": "LayoutModel",
          "state": {
            "_view_name": "LayoutView",
            "grid_template_rows": null,
            "right": null,
            "justify_content": null,
            "_view_module": "@jupyter-widgets/base",
            "overflow": null,
            "_model_module_version": "1.2.0",
            "_view_count": null,
            "flex_flow": null,
            "width": null,
            "min_width": null,
            "border": null,
            "align_items": null,
            "bottom": null,
            "_model_module": "@jupyter-widgets/base",
            "top": null,
            "grid_column": null,
            "overflow_y": null,
            "overflow_x": null,
            "grid_auto_flow": null,
            "grid_area": null,
            "grid_template_columns": null,
            "flex": null,
            "_model_name": "LayoutModel",
            "justify_items": null,
            "grid_row": null,
            "max_height": null,
            "align_content": null,
            "visibility": null,
            "align_self": null,
            "height": null,
            "min_height": null,
            "padding": null,
            "grid_auto_rows": null,
            "grid_gap": null,
            "max_width": null,
            "order": null,
            "_view_module_version": "1.2.0",
            "grid_template_areas": null,
            "object_position": null,
            "object_fit": null,
            "grid_auto_columns": null,
            "margin": null,
            "display": null,
            "left": null
          }
        },
        "9328dfad2d0e46c487f4881389389884": {
          "model_module": "@jupyter-widgets/controls",
          "model_name": "DescriptionStyleModel",
          "state": {
            "_view_name": "StyleView",
            "_model_name": "DescriptionStyleModel",
            "description_width": "",
            "_view_module": "@jupyter-widgets/base",
            "_model_module_version": "1.5.0",
            "_view_count": null,
            "_view_module_version": "1.2.0",
            "_model_module": "@jupyter-widgets/controls"
          }
        },
        "6a5294dae1304e458f80563cce444058": {
          "model_module": "@jupyter-widgets/base",
          "model_name": "LayoutModel",
          "state": {
            "_view_name": "LayoutView",
            "grid_template_rows": null,
            "right": null,
            "justify_content": null,
            "_view_module": "@jupyter-widgets/base",
            "overflow": null,
            "_model_module_version": "1.2.0",
            "_view_count": null,
            "flex_flow": null,
            "width": null,
            "min_width": null,
            "border": null,
            "align_items": null,
            "bottom": null,
            "_model_module": "@jupyter-widgets/base",
            "top": null,
            "grid_column": null,
            "overflow_y": null,
            "overflow_x": null,
            "grid_auto_flow": null,
            "grid_area": null,
            "grid_template_columns": null,
            "flex": null,
            "_model_name": "LayoutModel",
            "justify_items": null,
            "grid_row": null,
            "max_height": null,
            "align_content": null,
            "visibility": null,
            "align_self": null,
            "height": null,
            "min_height": null,
            "padding": null,
            "grid_auto_rows": null,
            "grid_gap": null,
            "max_width": null,
            "order": null,
            "_view_module_version": "1.2.0",
            "grid_template_areas": null,
            "object_position": null,
            "object_fit": null,
            "grid_auto_columns": null,
            "margin": null,
            "display": null,
            "left": null
          }
        },
        "1cc260d3c2084ccdaeef750e55489476": {
          "model_module": "@jupyter-widgets/controls",
          "model_name": "HBoxModel",
          "state": {
            "_view_name": "HBoxView",
            "_dom_classes": [],
            "_model_name": "HBoxModel",
            "_view_module": "@jupyter-widgets/controls",
            "_model_module_version": "1.5.0",
            "_view_count": null,
            "_view_module_version": "1.5.0",
            "box_style": "",
            "layout": "IPY_MODEL_eab61d20489b4b84aa542541cd6016d2",
            "_model_module": "@jupyter-widgets/controls",
            "children": [
              "IPY_MODEL_24065b474fd44563897c73e5c8425c88",
              "IPY_MODEL_d644ad35b61c45c68dba580caa323aae"
            ]
          }
        },
        "eab61d20489b4b84aa542541cd6016d2": {
          "model_module": "@jupyter-widgets/base",
          "model_name": "LayoutModel",
          "state": {
            "_view_name": "LayoutView",
            "grid_template_rows": null,
            "right": null,
            "justify_content": null,
            "_view_module": "@jupyter-widgets/base",
            "overflow": null,
            "_model_module_version": "1.2.0",
            "_view_count": null,
            "flex_flow": null,
            "width": null,
            "min_width": null,
            "border": null,
            "align_items": null,
            "bottom": null,
            "_model_module": "@jupyter-widgets/base",
            "top": null,
            "grid_column": null,
            "overflow_y": null,
            "overflow_x": null,
            "grid_auto_flow": null,
            "grid_area": null,
            "grid_template_columns": null,
            "flex": null,
            "_model_name": "LayoutModel",
            "justify_items": null,
            "grid_row": null,
            "max_height": null,
            "align_content": null,
            "visibility": null,
            "align_self": null,
            "height": null,
            "min_height": null,
            "padding": null,
            "grid_auto_rows": null,
            "grid_gap": null,
            "max_width": null,
            "order": null,
            "_view_module_version": "1.2.0",
            "grid_template_areas": null,
            "object_position": null,
            "object_fit": null,
            "grid_auto_columns": null,
            "margin": null,
            "display": null,
            "left": null
          }
        },
        "24065b474fd44563897c73e5c8425c88": {
          "model_module": "@jupyter-widgets/controls",
          "model_name": "FloatProgressModel",
          "state": {
            "_view_name": "ProgressView",
            "style": "IPY_MODEL_64ef180126f249ad9f62ef07674a3b4d",
            "_dom_classes": [],
            "description": "100%",
            "_model_name": "FloatProgressModel",
            "bar_style": "success",
            "max": 7222,
            "_view_module": "@jupyter-widgets/controls",
            "_model_module_version": "1.5.0",
            "value": 7222,
            "_view_count": null,
            "_view_module_version": "1.5.0",
            "orientation": "horizontal",
            "min": 0,
            "description_tooltip": null,
            "_model_module": "@jupyter-widgets/controls",
            "layout": "IPY_MODEL_50951910a7c84405ad3d981374eba06f"
          }
        },
        "d644ad35b61c45c68dba580caa323aae": {
          "model_module": "@jupyter-widgets/controls",
          "model_name": "HTMLModel",
          "state": {
            "_view_name": "HTMLView",
            "style": "IPY_MODEL_e1c315f9a32d472daffd13af3ed193a1",
            "_dom_classes": [],
            "description": "",
            "_model_name": "HTMLModel",
            "placeholder": "​",
            "_view_module": "@jupyter-widgets/controls",
            "_model_module_version": "1.5.0",
            "value": " 7222/7222 [00:00&lt;00:00, 245683.19it/s]",
            "_view_count": null,
            "_view_module_version": "1.5.0",
            "description_tooltip": null,
            "_model_module": "@jupyter-widgets/controls",
            "layout": "IPY_MODEL_d254de0bb9864e4a9fc4be1a60dc62ee"
          }
        },
        "64ef180126f249ad9f62ef07674a3b4d": {
          "model_module": "@jupyter-widgets/controls",
          "model_name": "ProgressStyleModel",
          "state": {
            "_view_name": "StyleView",
            "_model_name": "ProgressStyleModel",
            "description_width": "initial",
            "_view_module": "@jupyter-widgets/base",
            "_model_module_version": "1.5.0",
            "_view_count": null,
            "_view_module_version": "1.2.0",
            "bar_color": null,
            "_model_module": "@jupyter-widgets/controls"
          }
        },
        "50951910a7c84405ad3d981374eba06f": {
          "model_module": "@jupyter-widgets/base",
          "model_name": "LayoutModel",
          "state": {
            "_view_name": "LayoutView",
            "grid_template_rows": null,
            "right": null,
            "justify_content": null,
            "_view_module": "@jupyter-widgets/base",
            "overflow": null,
            "_model_module_version": "1.2.0",
            "_view_count": null,
            "flex_flow": null,
            "width": null,
            "min_width": null,
            "border": null,
            "align_items": null,
            "bottom": null,
            "_model_module": "@jupyter-widgets/base",
            "top": null,
            "grid_column": null,
            "overflow_y": null,
            "overflow_x": null,
            "grid_auto_flow": null,
            "grid_area": null,
            "grid_template_columns": null,
            "flex": null,
            "_model_name": "LayoutModel",
            "justify_items": null,
            "grid_row": null,
            "max_height": null,
            "align_content": null,
            "visibility": null,
            "align_self": null,
            "height": null,
            "min_height": null,
            "padding": null,
            "grid_auto_rows": null,
            "grid_gap": null,
            "max_width": null,
            "order": null,
            "_view_module_version": "1.2.0",
            "grid_template_areas": null,
            "object_position": null,
            "object_fit": null,
            "grid_auto_columns": null,
            "margin": null,
            "display": null,
            "left": null
          }
        },
        "e1c315f9a32d472daffd13af3ed193a1": {
          "model_module": "@jupyter-widgets/controls",
          "model_name": "DescriptionStyleModel",
          "state": {
            "_view_name": "StyleView",
            "_model_name": "DescriptionStyleModel",
            "description_width": "",
            "_view_module": "@jupyter-widgets/base",
            "_model_module_version": "1.5.0",
            "_view_count": null,
            "_view_module_version": "1.2.0",
            "_model_module": "@jupyter-widgets/controls"
          }
        },
        "d254de0bb9864e4a9fc4be1a60dc62ee": {
          "model_module": "@jupyter-widgets/base",
          "model_name": "LayoutModel",
          "state": {
            "_view_name": "LayoutView",
            "grid_template_rows": null,
            "right": null,
            "justify_content": null,
            "_view_module": "@jupyter-widgets/base",
            "overflow": null,
            "_model_module_version": "1.2.0",
            "_view_count": null,
            "flex_flow": null,
            "width": null,
            "min_width": null,
            "border": null,
            "align_items": null,
            "bottom": null,
            "_model_module": "@jupyter-widgets/base",
            "top": null,
            "grid_column": null,
            "overflow_y": null,
            "overflow_x": null,
            "grid_auto_flow": null,
            "grid_area": null,
            "grid_template_columns": null,
            "flex": null,
            "_model_name": "LayoutModel",
            "justify_items": null,
            "grid_row": null,
            "max_height": null,
            "align_content": null,
            "visibility": null,
            "align_self": null,
            "height": null,
            "min_height": null,
            "padding": null,
            "grid_auto_rows": null,
            "grid_gap": null,
            "max_width": null,
            "order": null,
            "_view_module_version": "1.2.0",
            "grid_template_areas": null,
            "object_position": null,
            "object_fit": null,
            "grid_auto_columns": null,
            "margin": null,
            "display": null,
            "left": null
          }
        },
        "458a07aace404e41b1c9d730069b11cf": {
          "model_module": "@jupyter-widgets/controls",
          "model_name": "HBoxModel",
          "state": {
            "_view_name": "HBoxView",
            "_dom_classes": [],
            "_model_name": "HBoxModel",
            "_view_module": "@jupyter-widgets/controls",
            "_model_module_version": "1.5.0",
            "_view_count": null,
            "_view_module_version": "1.5.0",
            "box_style": "",
            "layout": "IPY_MODEL_7fa13e4976be4cc6979cc13428a76a5a",
            "_model_module": "@jupyter-widgets/controls",
            "children": [
              "IPY_MODEL_57092bd9b09247739aba070f7994a047",
              "IPY_MODEL_3feab65352f54108a6e63591e5d1c012"
            ]
          }
        },
        "7fa13e4976be4cc6979cc13428a76a5a": {
          "model_module": "@jupyter-widgets/base",
          "model_name": "LayoutModel",
          "state": {
            "_view_name": "LayoutView",
            "grid_template_rows": null,
            "right": null,
            "justify_content": null,
            "_view_module": "@jupyter-widgets/base",
            "overflow": null,
            "_model_module_version": "1.2.0",
            "_view_count": null,
            "flex_flow": null,
            "width": null,
            "min_width": null,
            "border": null,
            "align_items": null,
            "bottom": null,
            "_model_module": "@jupyter-widgets/base",
            "top": null,
            "grid_column": null,
            "overflow_y": null,
            "overflow_x": null,
            "grid_auto_flow": null,
            "grid_area": null,
            "grid_template_columns": null,
            "flex": null,
            "_model_name": "LayoutModel",
            "justify_items": null,
            "grid_row": null,
            "max_height": null,
            "align_content": null,
            "visibility": null,
            "align_self": null,
            "height": null,
            "min_height": null,
            "padding": null,
            "grid_auto_rows": null,
            "grid_gap": null,
            "max_width": null,
            "order": null,
            "_view_module_version": "1.2.0",
            "grid_template_areas": null,
            "object_position": null,
            "object_fit": null,
            "grid_auto_columns": null,
            "margin": null,
            "display": null,
            "left": null
          }
        },
        "57092bd9b09247739aba070f7994a047": {
          "model_module": "@jupyter-widgets/controls",
          "model_name": "FloatProgressModel",
          "state": {
            "_view_name": "ProgressView",
            "style": "IPY_MODEL_2d4ca037ae3a4e36a4f1ea9e1bf2c095",
            "_dom_classes": [],
            "description": "100%",
            "_model_name": "FloatProgressModel",
            "bar_style": "success",
            "max": 7222,
            "_view_module": "@jupyter-widgets/controls",
            "_model_module_version": "1.5.0",
            "value": 7222,
            "_view_count": null,
            "_view_module_version": "1.5.0",
            "orientation": "horizontal",
            "min": 0,
            "description_tooltip": null,
            "_model_module": "@jupyter-widgets/controls",
            "layout": "IPY_MODEL_3b4a23d410204a0cac77fb011b6032b6"
          }
        },
        "3feab65352f54108a6e63591e5d1c012": {
          "model_module": "@jupyter-widgets/controls",
          "model_name": "HTMLModel",
          "state": {
            "_view_name": "HTMLView",
            "style": "IPY_MODEL_510ecab78ee643fa84b9d5089ae4f529",
            "_dom_classes": [],
            "description": "",
            "_model_name": "HTMLModel",
            "placeholder": "​",
            "_view_module": "@jupyter-widgets/controls",
            "_model_module_version": "1.5.0",
            "value": " 7222/7222 [00:00&lt;00:00, 230283.52it/s]",
            "_view_count": null,
            "_view_module_version": "1.5.0",
            "description_tooltip": null,
            "_model_module": "@jupyter-widgets/controls",
            "layout": "IPY_MODEL_89da53e1d53d43a3b67c4641a01f8846"
          }
        },
        "2d4ca037ae3a4e36a4f1ea9e1bf2c095": {
          "model_module": "@jupyter-widgets/controls",
          "model_name": "ProgressStyleModel",
          "state": {
            "_view_name": "StyleView",
            "_model_name": "ProgressStyleModel",
            "description_width": "initial",
            "_view_module": "@jupyter-widgets/base",
            "_model_module_version": "1.5.0",
            "_view_count": null,
            "_view_module_version": "1.2.0",
            "bar_color": null,
            "_model_module": "@jupyter-widgets/controls"
          }
        },
        "3b4a23d410204a0cac77fb011b6032b6": {
          "model_module": "@jupyter-widgets/base",
          "model_name": "LayoutModel",
          "state": {
            "_view_name": "LayoutView",
            "grid_template_rows": null,
            "right": null,
            "justify_content": null,
            "_view_module": "@jupyter-widgets/base",
            "overflow": null,
            "_model_module_version": "1.2.0",
            "_view_count": null,
            "flex_flow": null,
            "width": null,
            "min_width": null,
            "border": null,
            "align_items": null,
            "bottom": null,
            "_model_module": "@jupyter-widgets/base",
            "top": null,
            "grid_column": null,
            "overflow_y": null,
            "overflow_x": null,
            "grid_auto_flow": null,
            "grid_area": null,
            "grid_template_columns": null,
            "flex": null,
            "_model_name": "LayoutModel",
            "justify_items": null,
            "grid_row": null,
            "max_height": null,
            "align_content": null,
            "visibility": null,
            "align_self": null,
            "height": null,
            "min_height": null,
            "padding": null,
            "grid_auto_rows": null,
            "grid_gap": null,
            "max_width": null,
            "order": null,
            "_view_module_version": "1.2.0",
            "grid_template_areas": null,
            "object_position": null,
            "object_fit": null,
            "grid_auto_columns": null,
            "margin": null,
            "display": null,
            "left": null
          }
        },
        "510ecab78ee643fa84b9d5089ae4f529": {
          "model_module": "@jupyter-widgets/controls",
          "model_name": "DescriptionStyleModel",
          "state": {
            "_view_name": "StyleView",
            "_model_name": "DescriptionStyleModel",
            "description_width": "",
            "_view_module": "@jupyter-widgets/base",
            "_model_module_version": "1.5.0",
            "_view_count": null,
            "_view_module_version": "1.2.0",
            "_model_module": "@jupyter-widgets/controls"
          }
        },
        "89da53e1d53d43a3b67c4641a01f8846": {
          "model_module": "@jupyter-widgets/base",
          "model_name": "LayoutModel",
          "state": {
            "_view_name": "LayoutView",
            "grid_template_rows": null,
            "right": null,
            "justify_content": null,
            "_view_module": "@jupyter-widgets/base",
            "overflow": null,
            "_model_module_version": "1.2.0",
            "_view_count": null,
            "flex_flow": null,
            "width": null,
            "min_width": null,
            "border": null,
            "align_items": null,
            "bottom": null,
            "_model_module": "@jupyter-widgets/base",
            "top": null,
            "grid_column": null,
            "overflow_y": null,
            "overflow_x": null,
            "grid_auto_flow": null,
            "grid_area": null,
            "grid_template_columns": null,
            "flex": null,
            "_model_name": "LayoutModel",
            "justify_items": null,
            "grid_row": null,
            "max_height": null,
            "align_content": null,
            "visibility": null,
            "align_self": null,
            "height": null,
            "min_height": null,
            "padding": null,
            "grid_auto_rows": null,
            "grid_gap": null,
            "max_width": null,
            "order": null,
            "_view_module_version": "1.2.0",
            "grid_template_areas": null,
            "object_position": null,
            "object_fit": null,
            "grid_auto_columns": null,
            "margin": null,
            "display": null,
            "left": null
          }
        },
        "cd940d8cc9b842f5943a5fea3d7bf476": {
          "model_module": "@jupyter-widgets/controls",
          "model_name": "HBoxModel",
          "state": {
            "_view_name": "HBoxView",
            "_dom_classes": [],
            "_model_name": "HBoxModel",
            "_view_module": "@jupyter-widgets/controls",
            "_model_module_version": "1.5.0",
            "_view_count": null,
            "_view_module_version": "1.5.0",
            "box_style": "",
            "layout": "IPY_MODEL_4abe0819f7594f2783000f513c89525d",
            "_model_module": "@jupyter-widgets/controls",
            "children": [
              "IPY_MODEL_8118834595b4455aa8ea19c3c3709479",
              "IPY_MODEL_09d4cd1cc1064f5c8dbd2068aff5228e"
            ]
          }
        },
        "4abe0819f7594f2783000f513c89525d": {
          "model_module": "@jupyter-widgets/base",
          "model_name": "LayoutModel",
          "state": {
            "_view_name": "LayoutView",
            "grid_template_rows": null,
            "right": null,
            "justify_content": null,
            "_view_module": "@jupyter-widgets/base",
            "overflow": null,
            "_model_module_version": "1.2.0",
            "_view_count": null,
            "flex_flow": null,
            "width": null,
            "min_width": null,
            "border": null,
            "align_items": null,
            "bottom": null,
            "_model_module": "@jupyter-widgets/base",
            "top": null,
            "grid_column": null,
            "overflow_y": null,
            "overflow_x": null,
            "grid_auto_flow": null,
            "grid_area": null,
            "grid_template_columns": null,
            "flex": null,
            "_model_name": "LayoutModel",
            "justify_items": null,
            "grid_row": null,
            "max_height": null,
            "align_content": null,
            "visibility": null,
            "align_self": null,
            "height": null,
            "min_height": null,
            "padding": null,
            "grid_auto_rows": null,
            "grid_gap": null,
            "max_width": null,
            "order": null,
            "_view_module_version": "1.2.0",
            "grid_template_areas": null,
            "object_position": null,
            "object_fit": null,
            "grid_auto_columns": null,
            "margin": null,
            "display": null,
            "left": null
          }
        },
        "8118834595b4455aa8ea19c3c3709479": {
          "model_module": "@jupyter-widgets/controls",
          "model_name": "FloatProgressModel",
          "state": {
            "_view_name": "ProgressView",
            "style": "IPY_MODEL_7268e4f45fba4f149e70fd21086d64f4",
            "_dom_classes": [],
            "description": "100%",
            "_model_name": "FloatProgressModel",
            "bar_style": "success",
            "max": 7222,
            "_view_module": "@jupyter-widgets/controls",
            "_model_module_version": "1.5.0",
            "value": 7222,
            "_view_count": null,
            "_view_module_version": "1.5.0",
            "orientation": "horizontal",
            "min": 0,
            "description_tooltip": null,
            "_model_module": "@jupyter-widgets/controls",
            "layout": "IPY_MODEL_e682cf2928874f8ba6cfaaedc422e549"
          }
        },
        "09d4cd1cc1064f5c8dbd2068aff5228e": {
          "model_module": "@jupyter-widgets/controls",
          "model_name": "HTMLModel",
          "state": {
            "_view_name": "HTMLView",
            "style": "IPY_MODEL_882a13bb39684d16978c1743f2048c53",
            "_dom_classes": [],
            "description": "",
            "_model_name": "HTMLModel",
            "placeholder": "​",
            "_view_module": "@jupyter-widgets/controls",
            "_model_module_version": "1.5.0",
            "value": " 7222/7222 [00:00&lt;00:00, 248662.04it/s]",
            "_view_count": null,
            "_view_module_version": "1.5.0",
            "description_tooltip": null,
            "_model_module": "@jupyter-widgets/controls",
            "layout": "IPY_MODEL_5a85d06e90374e02a83b05ce413d79b9"
          }
        },
        "7268e4f45fba4f149e70fd21086d64f4": {
          "model_module": "@jupyter-widgets/controls",
          "model_name": "ProgressStyleModel",
          "state": {
            "_view_name": "StyleView",
            "_model_name": "ProgressStyleModel",
            "description_width": "initial",
            "_view_module": "@jupyter-widgets/base",
            "_model_module_version": "1.5.0",
            "_view_count": null,
            "_view_module_version": "1.2.0",
            "bar_color": null,
            "_model_module": "@jupyter-widgets/controls"
          }
        },
        "e682cf2928874f8ba6cfaaedc422e549": {
          "model_module": "@jupyter-widgets/base",
          "model_name": "LayoutModel",
          "state": {
            "_view_name": "LayoutView",
            "grid_template_rows": null,
            "right": null,
            "justify_content": null,
            "_view_module": "@jupyter-widgets/base",
            "overflow": null,
            "_model_module_version": "1.2.0",
            "_view_count": null,
            "flex_flow": null,
            "width": null,
            "min_width": null,
            "border": null,
            "align_items": null,
            "bottom": null,
            "_model_module": "@jupyter-widgets/base",
            "top": null,
            "grid_column": null,
            "overflow_y": null,
            "overflow_x": null,
            "grid_auto_flow": null,
            "grid_area": null,
            "grid_template_columns": null,
            "flex": null,
            "_model_name": "LayoutModel",
            "justify_items": null,
            "grid_row": null,
            "max_height": null,
            "align_content": null,
            "visibility": null,
            "align_self": null,
            "height": null,
            "min_height": null,
            "padding": null,
            "grid_auto_rows": null,
            "grid_gap": null,
            "max_width": null,
            "order": null,
            "_view_module_version": "1.2.0",
            "grid_template_areas": null,
            "object_position": null,
            "object_fit": null,
            "grid_auto_columns": null,
            "margin": null,
            "display": null,
            "left": null
          }
        },
        "882a13bb39684d16978c1743f2048c53": {
          "model_module": "@jupyter-widgets/controls",
          "model_name": "DescriptionStyleModel",
          "state": {
            "_view_name": "StyleView",
            "_model_name": "DescriptionStyleModel",
            "description_width": "",
            "_view_module": "@jupyter-widgets/base",
            "_model_module_version": "1.5.0",
            "_view_count": null,
            "_view_module_version": "1.2.0",
            "_model_module": "@jupyter-widgets/controls"
          }
        },
        "5a85d06e90374e02a83b05ce413d79b9": {
          "model_module": "@jupyter-widgets/base",
          "model_name": "LayoutModel",
          "state": {
            "_view_name": "LayoutView",
            "grid_template_rows": null,
            "right": null,
            "justify_content": null,
            "_view_module": "@jupyter-widgets/base",
            "overflow": null,
            "_model_module_version": "1.2.0",
            "_view_count": null,
            "flex_flow": null,
            "width": null,
            "min_width": null,
            "border": null,
            "align_items": null,
            "bottom": null,
            "_model_module": "@jupyter-widgets/base",
            "top": null,
            "grid_column": null,
            "overflow_y": null,
            "overflow_x": null,
            "grid_auto_flow": null,
            "grid_area": null,
            "grid_template_columns": null,
            "flex": null,
            "_model_name": "LayoutModel",
            "justify_items": null,
            "grid_row": null,
            "max_height": null,
            "align_content": null,
            "visibility": null,
            "align_self": null,
            "height": null,
            "min_height": null,
            "padding": null,
            "grid_auto_rows": null,
            "grid_gap": null,
            "max_width": null,
            "order": null,
            "_view_module_version": "1.2.0",
            "grid_template_areas": null,
            "object_position": null,
            "object_fit": null,
            "grid_auto_columns": null,
            "margin": null,
            "display": null,
            "left": null
          }
        }
      }
    },
    "accelerator": "GPU"
  },
  "cells": [
    {
      "cell_type": "code",
      "metadata": {
        "id": "yj21IyLWKoxk"
      },
      "source": [
        "# Licensing Information:  You are free to use or extend this project for\n",
        "# educational purposes provided that (1) you do not distribute or publish\n",
        "# solutions, (2) you retain this notice, and (3) you provide clear\n",
        "# attribution to The Georgia Institute of Technology, including a link to https://aritter.github.io/CS-7650/\n",
        "\n",
        "# Attribution Information: This assignment was developed at The Georgia Institute of Technology\n",
        "# by Alan Ritter (alan.ritter@cc.gatech.edu)"
      ],
      "execution_count": null,
      "outputs": []
    },
    {
      "cell_type": "markdown",
      "metadata": {
        "id": "KuoWLCBPu5-W"
      },
      "source": [
        "#Project \\#1: Text Classification\n",
        "\n",
        "In this assignment, you will implement the perceptron algorithm, and a simple, but competitive neural bag-of-words model, as described in [this paper](https://www.aclweb.org/anthology/P15-1162.pdf) for text classification.  You will train your models on a (provided) dataset of positive and negative movie reviews and report accuracy on a test set.\n",
        "\n",
        "In this notebook, we provide you with starter code to read in the data and evaluate the performance of your models.  After completing the instructions below, please follow the instructions at the end to submit your notebook and other files to Gradescope.\n",
        "\n",
        "Make sure to make a copy of this notebook, so your changes are saved."
      ]
    },
    {
      "cell_type": "markdown",
      "metadata": {
        "id": "J8ZlxhBdyX8j"
      },
      "source": [
        "#Download the dataset\n",
        "\n",
        "First you will need to download the IMDB dataset - to do this, simply run the cell below.  We have prepared a small version of the ACL IMDB dataset for you to use to help make your experiments faster.  The full dataset is available [here](https://ai.stanford.edu/~amaas/data/sentiment/), in case you are interested, but there is no need to use this for the assignment.\n",
        "\n",
        "Note that files downloaded in Colab are only saved temporariliy - if your session reconnects you will need to re-download the files.  In case you need persistent storage, you can mount your Google drive folder like so:\n",
        "\n",
        "```\n",
        "from google.colab import drive\n",
        "drive.mount('/content/drive')\n",
        "```\n",
        "\n",
        "You can also open a command line prompt by clicking on the shell icon on the left hand side of the page, and upload/download files from your local machine by clicking on the file icon."
      ]
    },
    {
      "cell_type": "code",
      "metadata": {
        "colab": {
          "base_uri": "https://localhost:8080/"
        },
        "id": "L9r9cSojEVnB",
        "outputId": "36956951-383e-4b81-fa53-5837c0504bd0"
      },
      "source": [
        "#Download the data\n",
        "\n",
        "!wget https://github.com/aritter/5525_sentiment/raw/master/aclImdb_small.tgz\n",
        "!tar xvzf aclImdb_small.tgz > /dev/null"
      ],
      "execution_count": null,
      "outputs": [
        {
          "output_type": "stream",
          "text": [
            "--2021-02-06 01:44:53--  https://github.com/aritter/5525_sentiment/raw/master/aclImdb_small.tgz\n",
            "Resolving github.com (github.com)... 192.30.255.113\n",
            "Connecting to github.com (github.com)|192.30.255.113|:443... connected.\n",
            "HTTP request sent, awaiting response... 302 Found\n",
            "Location: https://raw.githubusercontent.com/aritter/5525_sentiment/master/aclImdb_small.tgz [following]\n",
            "--2021-02-06 01:44:53--  https://raw.githubusercontent.com/aritter/5525_sentiment/master/aclImdb_small.tgz\n",
            "Resolving raw.githubusercontent.com (raw.githubusercontent.com)... 151.101.0.133, 151.101.64.133, 151.101.128.133, ...\n",
            "Connecting to raw.githubusercontent.com (raw.githubusercontent.com)|151.101.0.133|:443... connected.\n",
            "HTTP request sent, awaiting response... 200 OK\n",
            "Length: 9635749 (9.2M) [application/octet-stream]\n",
            "Saving to: ‘aclImdb_small.tgz’\n",
            "\n",
            "aclImdb_small.tgz   100%[===================>]   9.19M  52.8MB/s    in 0.2s    \n",
            "\n",
            "2021-02-06 01:44:54 (52.8 MB/s) - ‘aclImdb_small.tgz’ saved [9635749/9635749]\n",
            "\n"
          ],
          "name": "stdout"
        }
      ]
    },
    {
      "cell_type": "markdown",
      "metadata": {
        "id": "0HHaUKE61udd"
      },
      "source": [
        "# Converting text to numbers\n",
        "\n",
        "Below is some code we are providing you to read in the IMDB dataset, perform tokenization (using `nltk`), and convert words into indices.  Please don't modify this code in your submitted version.  We will provide example usage below."
      ]
    },
    {
      "cell_type": "code",
      "metadata": {
        "id": "wdnNfu4uH1yj",
        "colab": {
          "base_uri": "https://localhost:8080/"
        },
        "outputId": "9452de9e-7aaa-4d59-d00f-51522cff5ca9"
      },
      "source": [
        "import os\n",
        "import sys\n",
        "\n",
        "import nltk\n",
        "from nltk import word_tokenize\n",
        "nltk.download('punkt')\n",
        "import torch\n",
        "\n",
        "#Sparse matrix implementation\n",
        "from scipy.sparse import csr_matrix\n",
        "import numpy as np\n",
        "from collections import Counter\n",
        "\n",
        "np.random.seed(1)\n",
        "\n",
        "class Vocab:\n",
        "    def __init__(self, vocabFile=None):\n",
        "        self.locked = False\n",
        "        self.nextId = 0\n",
        "        self.word2id = {}\n",
        "        self.id2word = {}\n",
        "        if vocabFile:\n",
        "            for line in open(vocabFile):\n",
        "                line = line.rstrip('\\n')\n",
        "                (word, wid) = line.split('\\t')\n",
        "                self.word2id[word] = int(wid)\n",
        "                self.id2word[wid] = word\n",
        "                self.nextId = max(self.nextId, int(wid) + 1)\n",
        "\n",
        "    def GetID(self, word):\n",
        "        if not word in self.word2id:\n",
        "            if self.locked:\n",
        "                return -1        #UNK token is -1.\n",
        "            else:\n",
        "                self.word2id[word] = self.nextId\n",
        "                self.id2word[self.word2id[word]] = word\n",
        "                self.nextId += 1\n",
        "        return self.word2id[word]\n",
        "\n",
        "    def HasWord(self, word):\n",
        "        return self.word2id.has_key(word)\n",
        "\n",
        "    def HasId(self, wid):\n",
        "        return self.id2word.has_key(wid)\n",
        "\n",
        "    def GetWord(self, wid):\n",
        "        return self.id2word[wid]\n",
        "\n",
        "    def SaveVocab(self, vocabFile):\n",
        "        fOut = open(vocabFile, 'w')\n",
        "        for word in self.word2id.keys():\n",
        "            fOut.write(\"%s\\t%s\\n\" % (word, self.word2id[word]))\n",
        "\n",
        "    def GetVocabSize(self):\n",
        "        #return self.nextId-1\n",
        "        return self.nextId\n",
        "\n",
        "    def GetWords(self):\n",
        "        return self.word2id.keys()\n",
        "\n",
        "    def Lock(self):\n",
        "        self.locked = True\n",
        "\n",
        "class IMDBdata:\n",
        "    def __init__(self, directory, vocab=None):\n",
        "        \"\"\" Reads in data into sparse matrix format \"\"\"\n",
        "        pFiles = os.listdir(\"%s/pos\" % directory)\n",
        "        nFiles = os.listdir(\"%s/neg\" % directory)\n",
        "\n",
        "        if not vocab:\n",
        "            self.vocab = Vocab()\n",
        "        else:\n",
        "            self.vocab = vocab\n",
        "\n",
        "        #For csr_matrix (see http://docs.scipy.org/doc/scipy-0.15.1/reference/generated/scipy.sparse.csr_matrix.html#scipy.sparse.csr_matrix)\n",
        "        X_values = []\n",
        "        X_row_indices = []\n",
        "        X_col_indices = []\n",
        "        Y = []\n",
        "\n",
        "        XwordList = []\n",
        "        XfileList = []\n",
        "\n",
        "        #Read positive files\n",
        "        for i in range(len(pFiles)):\n",
        "            f = pFiles[i]\n",
        "            for line in open(\"%s/pos/%s\" % (directory, f)):\n",
        "                wordList   = [self.vocab.GetID(w.lower()) for w in word_tokenize(line) if self.vocab.GetID(w.lower()) >= 0]\n",
        "                XwordList.append(wordList)\n",
        "                XfileList.append(f)\n",
        "                wordCounts = Counter(wordList)\n",
        "                for (wordId, count) in wordCounts.items():\n",
        "                    if wordId >= 0:\n",
        "                        X_row_indices.append(i)\n",
        "                        X_col_indices.append(wordId)\n",
        "                        X_values.append(count)\n",
        "            Y.append(+1.0)\n",
        "\n",
        "        #Read negative files\n",
        "        for i in range(len(nFiles)):\n",
        "            f = nFiles[i]\n",
        "            for line in open(\"%s/neg/%s\" % (directory, f)):\n",
        "                wordList   = [self.vocab.GetID(w.lower()) for w in word_tokenize(line) if self.vocab.GetID(w.lower()) >= 0]\n",
        "                XwordList.append(wordList)\n",
        "                XfileList.append(f)\n",
        "                wordCounts = Counter(wordList)\n",
        "                for (wordId, count) in wordCounts.items():\n",
        "                    if wordId >= 0:\n",
        "                        X_row_indices.append(len(pFiles)+i)\n",
        "                        X_col_indices.append(wordId)\n",
        "                        X_values.append(count)\n",
        "            Y.append(-1.0)\n",
        "            \n",
        "        self.vocab.Lock()\n",
        "\n",
        "        #Create a sparse matrix in csr format\n",
        "        self.X = csr_matrix((X_values, (X_row_indices, X_col_indices)), shape=(max(X_row_indices)+1, self.vocab.GetVocabSize()))\n",
        "        self.Y = np.asarray(Y)\n",
        "\n",
        "        #Randomly shuffle\n",
        "        index = np.arange(self.X.shape[0])\n",
        "        np.random.shuffle(index)\n",
        "        self.X = self.X[index,:]\n",
        "        self.XwordList = [torch.LongTensor(XwordList[i]) for i in index]  #Two different sparse formats, csr and lists of IDs (XwordList).\n",
        "        self.XfileList = [XfileList[i] for i in index]\n",
        "        self.Y = self.Y[index]"
      ],
      "execution_count": null,
      "outputs": [
        {
          "output_type": "stream",
          "text": [
            "[nltk_data] Downloading package punkt to /root/nltk_data...\n",
            "[nltk_data]   Unzipping tokenizers/punkt.zip.\n"
          ],
          "name": "stdout"
        }
      ]
    },
    {
      "cell_type": "markdown",
      "metadata": {
        "id": "Cn1gvbW92h1V"
      },
      "source": [
        "The code below reads the train,dev and test data into memory.  This will take a minute or so."
      ]
    },
    {
      "cell_type": "code",
      "metadata": {
        "id": "WGp6dMNZEGoP"
      },
      "source": [
        "train = IMDBdata(\"aclImdb_small/train\")\n",
        "train.vocab.Lock()\n",
        "dev  = IMDBdata(\"aclImdb_small/dev\", vocab=train.vocab)\n",
        "test  = IMDBdata(\"aclImdb_small/test\", vocab=train.vocab)"
      ],
      "execution_count": null,
      "outputs": []
    },
    {
      "cell_type": "markdown",
      "metadata": {
        "id": "R1pnYB3I22QJ"
      },
      "source": [
        "# Exploring the data\n",
        "\n",
        "Below are a few examples to help you get familiar with how the data is represented.  $X \\in \\mathbb{R}^{M \\times N}$ contains the design matrix and $Y \\in \\{+1,-1\\}^N$ contains the labels.  Because there are a large number of features in this representation ($X$ contains one column representing each unique word in the dataset), we are using a sparse matrix representation (Numpy's [csr_sparse](http://docs.scipy.org/doc/scipy-0.15.1/reference/generated/scipy.sparse.csr_matrix.html#scipy.sparse.csr_matrix)).  PyTorch doesn't have great support for sparse matrices...\n"
      ]
    },
    {
      "cell_type": "code",
      "metadata": {
        "id": "idqR_DvV3USp",
        "colab": {
          "base_uri": "https://localhost:8080/"
        },
        "outputId": "051ff864-90e1-4ad9-d256-0e594a0ed913"
      },
      "source": [
        "# X contains the design matrix representing the training data.\n",
        "print(f\"Train.X has {train.X.shape[0]} rows and {train.X.shape[1]} columns.\")"
      ],
      "execution_count": null,
      "outputs": [
        {
          "output_type": "stream",
          "text": [
            "Train.X has 7222 rows and 58162 columns.\n"
          ],
          "name": "stdout"
        }
      ]
    },
    {
      "cell_type": "code",
      "metadata": {
        "colab": {
          "base_uri": "https://localhost:8080/"
        },
        "id": "jY_jAvEl8O4V",
        "outputId": "9723d3e8-de5f-4a0b-f08a-c0e21197bb2a"
      },
      "source": [
        "# Labels\n",
        "print(len(train.Y))"
      ],
      "execution_count": null,
      "outputs": [
        {
          "output_type": "stream",
          "text": [
            "7222\n"
          ],
          "name": "stdout"
        }
      ]
    },
    {
      "cell_type": "code",
      "metadata": {
        "colab": {
          "base_uri": "https://localhost:8080/"
        },
        "id": "g5w0c8WA8ixA",
        "outputId": "05ec5ada-b1f4-407d-e56d-2a137c9a08db"
      },
      "source": [
        "# Let's count the frequency of every word appearing in the documents with negative sentiment:\n",
        "word_counts = np.array(train.X[train.Y == -1,:].sum(axis=0)).flatten()\n",
        "word_counts"
      ],
      "execution_count": null,
      "outputs": [
        {
          "output_type": "execute_result",
          "data": {
            "text/plain": [
              "array([2399,  479,   22, ...,    1,    1,    1], dtype=int64)"
            ]
          },
          "metadata": {
            "tags": []
          },
          "execution_count": 7
        }
      ]
    },
    {
      "cell_type": "code",
      "metadata": {
        "colab": {
          "base_uri": "https://localhost:8080/"
        },
        "id": "sE67XmOn85lC",
        "outputId": "5652ed9a-2472-486b-cf60-aba0aa2cb91a"
      },
      "source": [
        "# Now, let's sort the words by frequency:\n",
        "sorted_words = list(reversed(np.argsort(word_counts)))\n",
        "sorted_words[0:10]"
      ],
      "execution_count": null,
      "outputs": [
        {
          "output_type": "execute_result",
          "data": {
            "text/plain": [
              "[17, 23, 16, 13, 1, 34, 74, 69, 66, 68]"
            ]
          },
          "metadata": {
            "tags": []
          },
          "execution_count": 28
        }
      ]
    },
    {
      "cell_type": "code",
      "metadata": {
        "colab": {
          "base_uri": "https://localhost:8080/"
        },
        "id": "d-YA01vB9IPw",
        "outputId": "4c921d8d-5f98-4e39-e72d-efb02edeeb42"
      },
      "source": [
        "# What is the index of the most frequent word?\n",
        "sorted_words[0]"
      ],
      "execution_count": null,
      "outputs": [
        {
          "output_type": "execute_result",
          "data": {
            "text/plain": [
              "17"
            ]
          },
          "metadata": {
            "tags": []
          },
          "execution_count": 29
        }
      ]
    },
    {
      "cell_type": "code",
      "metadata": {
        "colab": {
          "base_uri": "https://localhost:8080/",
          "height": 35
        },
        "id": "QWIT_E1N9P-X",
        "outputId": "a912ed56-f687-4d1e-9b7d-45c6da21ca31"
      },
      "source": [
        "# Let's see what word that is:\n",
        "train.vocab.GetWord(sorted_words[0])"
      ],
      "execution_count": null,
      "outputs": [
        {
          "output_type": "execute_result",
          "data": {
            "application/vnd.google.colaboratory.intrinsic+json": {
              "type": "string"
            },
            "text/plain": [
              "'the'"
            ]
          },
          "metadata": {
            "tags": []
          },
          "execution_count": 30
        }
      ]
    },
    {
      "cell_type": "code",
      "metadata": {
        "colab": {
          "base_uri": "https://localhost:8080/"
        },
        "id": "aHTtRxDR9THA",
        "outputId": "a8080438-3967-48bd-addf-6d7e0c69a846"
      },
      "source": [
        "# What are the 10 most frequent words?\n",
        "[train.vocab.GetWord(sorted_words[x]) for x in range(10)]"
      ],
      "execution_count": null,
      "outputs": [
        {
          "output_type": "execute_result",
          "data": {
            "text/plain": [
              "['the', ',', '.', 'a', 'and', 'to', 'of', '>', '<', '/']"
            ]
          },
          "metadata": {
            "tags": []
          },
          "execution_count": 31
        }
      ]
    },
    {
      "cell_type": "markdown",
      "metadata": {
        "id": "wtY58U5Y9rNT"
      },
      "source": [
        "# Now it's time to write some code!\n",
        "\n",
        "# Basic Perceptron (10 points)\n",
        "\n",
        "Implement the perceptron classification algorithm (fill in the missing code marked with `TODO:` below).\n",
        "The only hyperparameter to tune is the number of iterations."
      ]
    },
    {
      "cell_type": "code",
      "metadata": {
        "colab": {
          "base_uri": "https://localhost:8080/"
        },
        "id": "9_ZlositHwng",
        "outputId": "564f4c22-266e-40bc-e943-a8e0ed135fbf"
      },
      "source": [
        "class Eval:\n",
        "    def __init__(self, pred, gold):\n",
        "        self.pred = pred\n",
        "        self.gold = gold\n",
        "        \n",
        "    def Accuracy(self):\n",
        "        return np.sum(np.equal(self.pred, self.gold)) / float(len(self.gold))\n",
        "\n",
        "class Perceptron:\n",
        "    def __init__(self, X, Y, N_ITERATIONS):\n",
        "        #TODO: Initalize parameters\n",
        "        self.max_iterations = N_ITERATIONS\n",
        "        self.weights = csr_matrix(np.zeros((X.shape[1],1)))\n",
        "        self.avg_weights = csr_matrix(np.zeros((X.shape[1],1)))\n",
        "        self.c = 1\n",
        "        self.Train(X,Y)\n",
        "\n",
        "    def ComputeAverageParameters(self):\n",
        "        self.weights = self.weights - (self.avg_weights / self.c)\n",
        "        \n",
        "    def Train(self, X, Y):\n",
        "        for iter in range(self.max_iterations):\n",
        "            print(\"Iteration: \", iter)\n",
        "\n",
        "            for example_ind in range(X.shape[0]):\n",
        "                example = X[example_ind].transpose()\n",
        "                example_gold = Y[example_ind]\n",
        "                activation = self.weights.transpose().dot(example)[0,0] \n",
        "\n",
        "                if (example_gold * activation) <= 0: # ya <= 0\n",
        "                    self.weights = self.weights + (example_gold * example) # w = w + yx\n",
        "                    self.avg_weights = self.avg_weights + (self.c * example_gold * example)   \n",
        "                \n",
        "                self.c += 1\n",
        "        return self.weights\n",
        "\n",
        "    def Predict(self, X):\n",
        "        results = np.zeros((X.shape[0]))\n",
        "        for example_ind in range(X.shape[0]):\n",
        "            example = X[example_ind].transpose()\n",
        "            activation = self.weights.transpose().dot(example)[0,0] \n",
        "            results[example_ind] = 1 if activation >= 0 else -1\n",
        "          \n",
        "        return results\n",
        "\n",
        "    def SavePredictions(self, data, outFile):\n",
        "        Y_pred = self.Predict(data.X)\n",
        "        fOut = open(outFile, 'w')\n",
        "        for i in range(len(data.XfileList)):\n",
        "          fOut.write(f\"{data.XfileList[i]}\\t{Y_pred[i]}\\n\")\n",
        "\n",
        "    def Eval(self, X_test, Y_test):\n",
        "        Y_pred = self.Predict(X_test)\n",
        "        ev = Eval(Y_pred, Y_test)\n",
        "        return ev.Accuracy()\n",
        "    \n",
        "ptron = Perceptron(train.X, train.Y, 10)\n",
        "ptron.ComputeAverageParameters()\n",
        "print(ptron.Eval(dev.X, dev.Y))\n",
        "\n",
        "ptron.SavePredictions(test, 'test_pred_perceptron.txt')\n",
        "\n",
        "print(train.X.shape)\n",
        "print(test.X.shape)\n",
        "\n",
        "#TODO: Print the 20 most positive and 20 most negative words\n",
        "sorted = np.argsort(ptron.weights.toarray().flatten())\n",
        "\n",
        "lowest = sorted[::-1][:20]\n",
        "print(\"Best Words\")\n",
        "for i in range(20):\n",
        "  print(i + 1,\" : \", train.vocab.GetWord(lowest[i]))\n",
        "  print(ptron.weights.toarray().flatten()[lowest[i]])\n",
        "\n",
        "highest = sorted[:20]\n",
        "print(\"Worst Words\")\n",
        "for i in range(20):\n",
        "  print(i + 1,\" : \", train.vocab.GetWord(highest[i]))\n",
        "  print(ptron.weights.toarray().flatten()[highest[i]])"
      ],
      "execution_count": null,
      "outputs": [
        {
          "output_type": "stream",
          "text": [
            "Iteration:  0\n",
            "Iteration:  1\n",
            "Iteration:  2\n",
            "Iteration:  3\n",
            "Iteration:  4\n",
            "Iteration:  5\n",
            "Iteration:  6\n",
            "Iteration:  7\n",
            "Iteration:  8\n",
            "Iteration:  9\n",
            "0.8492349234923492\n",
            "(7222, 58162)\n",
            "(7222, 58162)\n",
            "Best Words\n",
            "1  :  great\n",
            "177.33642569335788\n",
            "2  :  excellent\n",
            "162.51007324739342\n",
            "3  :  perfect\n",
            "133.98259509007076\n",
            "4  :  fun\n",
            "111.42321485440523\n",
            "5  :  both\n",
            "106.83117098904751\n",
            "6  :  best\n",
            "106.71911216959056\n",
            "7  :  still\n",
            "105.13418534775204\n",
            "8  :  loved\n",
            "104.1428254939699\n",
            "9  :  definitely\n",
            "101.92882956480801\n",
            "10  :  rock\n",
            "101.03039282203238\n",
            "11  :  brilliant\n",
            "99.8455435399676\n",
            "12  :  highly\n",
            "99.83740186372384\n",
            "13  :  wonderful\n",
            "99.1941402085266\n",
            "14  :  own\n",
            "96.3792525719666\n",
            "15  :  bit\n",
            "91.98429819581563\n",
            "16  :  today\n",
            "90.18163692000942\n",
            "17  :  our\n",
            "89.69662563520305\n",
            "18  :  life\n",
            "86.3674416028579\n",
            "19  :  eye\n",
            "84.08793841126541\n",
            "20  :  tony\n",
            "83.18468312540674\n",
            "Worst Words\n",
            "1  :  worst\n",
            "-240.35862145359383\n",
            "2  :  boring\n",
            "-162.82398471358746\n",
            "3  :  waste\n",
            "-161.24492876033287\n",
            "4  :  bad\n",
            "-154.5196134088423\n",
            "5  :  awful\n",
            "-143.43227039226818\n",
            "6  :  minutes\n",
            "-137.86581465224796\n",
            "7  :  worse\n",
            "-134.07715207488127\n",
            "8  :  poor\n",
            "-132.55515708727378\n",
            "9  :  instead\n",
            "-129.31701305714404\n",
            "10  :  unfortunately\n",
            "-124.14603785602526\n",
            "11  :  annoying\n",
            "-114.00005538555268\n",
            "12  :  horrible\n",
            "-113.04819927721854\n",
            "13  :  stupid\n",
            "-111.97892579720579\n",
            "14  :  plot\n",
            "-107.96285014054084\n",
            "15  :  half\n",
            "-107.58014981791999\n",
            "16  :  weak\n",
            "-107.3304440536686\n",
            "17  :  terrible\n",
            "-101.92977111920356\n",
            "18  :  disappointing\n",
            "-98.90452915357028\n",
            "19  :  dull\n",
            "-97.18590160756567\n",
            "20  :  script\n",
            "-97.1109372620152\n"
          ],
          "name": "stdout"
        }
      ]
    },
    {
      "cell_type": "markdown",
      "metadata": {
        "id": "3rhcI8_MsfPF"
      },
      "source": [
        "# Parameter Averaging (5 points)\n",
        "\n",
        "Once your basic perceptron implementation is working, modify code to implement parameter averaging.  Instead of using parameters from the final iteration, $w_n$, to classify test examples, \n",
        "use the average of the parameters from every iteration, $\\frac{1}{N}\\sum_{i=1}^N w_i$.  A nice trick for doing this efficiently is described in section 2.1.1 of [Hal Daume's thesis](http://www.umiacs.umd.edu/~hal/docs/daume06thesis.pdf).  When you are done, save a copy of your predictions on the test set to turn in at the end (click on the file icon on the left side of the notebook).\n",
        "\n",
        "# Inspect Feature Weights (5 points)\n",
        "\n",
        "Modify the code block above to print out the 20 most positive and 20 most negative words in the vocabulary sorted by their learned weights according to your model.  This will require a bit of thought how to do because the words in each document have been converted to IDs (see examples above)."
      ]
    },
    {
      "cell_type": "markdown",
      "metadata": {
        "id": "we_vLQ5YRkJv"
      },
      "source": [
        "# Evaluate on the test set\n",
        "\n",
        "Once you are happy with your performance on the dev set, run the cell below to evaluate your performance on the test set.  Make sure to download the predictions of your model in `test_pred_perceptron.txt`."
      ]
    },
    {
      "cell_type": "code",
      "metadata": {
        "colab": {
          "base_uri": "https://localhost:8080/"
        },
        "id": "GY9wVRHPRkJ8",
        "outputId": "9264def4-ec20-4b13-b5d6-f426ccf9d4df"
      },
      "source": [
        "print(ptron.Eval(test.X, test.Y))\n",
        "\n",
        "ptron.SavePredictions(test, 'test_pred_perceptron.txt')"
      ],
      "execution_count": null,
      "outputs": [
        {
          "output_type": "stream",
          "text": [
            "0.8456106341733591\n"
          ],
          "name": "stdout"
        }
      ]
    },
    {
      "cell_type": "markdown",
      "metadata": {
        "id": "L2dykgBhuVvr"
      },
      "source": [
        "# PyTorch Introduction\n",
        "\n",
        "Take a look at the code below, which provides an example of how a simple neural network is capable of learning the XOR function (note that the perceptron cannot do this).  Refer to the PyTorch documentation [here](https://pytorch.org/docs/stable/index.html) for more information."
      ]
    },
    {
      "cell_type": "code",
      "metadata": {
        "colab": {
          "base_uri": "https://localhost:8080/"
        },
        "id": "18KP4ktWIQfy",
        "outputId": "d4e8f1ee-5fe9-4aba-cda6-645d4fae5a46"
      },
      "source": [
        "import torch\n",
        "import torch.nn as nn\n",
        "from torch import optim\n",
        "import random\n",
        "import numpy as np\n",
        "\n",
        "#Define the computation graph; one layer hidden network\n",
        "class FFNN(nn.Module):\n",
        "    def __init__(self, dim_i, dim_h, dim_o):\n",
        "        super(FFNN, self).__init__()\n",
        "        self.V = nn.Linear(dim_i, dim_h)\n",
        "        self.g = nn.Tanh()\n",
        "        self.W = nn.Linear(dim_h, dim_o)\n",
        "        self.logSoftmax = nn.LogSoftmax(dim=0)\n",
        "\n",
        "    def forward(self, x):\n",
        "        z = self.V(x)\n",
        "        z = self.g(z)\n",
        "        z = self.W(z)\n",
        "        z = self.logSoftmax(z)\n",
        "        return z\n",
        "\n",
        "train_X = np.array([[0,0], [0,1], [1,0], [1,1]])\n",
        "train_Y = np.array([0,1,1,0])\n",
        "\n",
        "num_classes  = 2\n",
        "num_hidden   = 10\n",
        "num_features = 2\n",
        "\n",
        "ffnn = FFNN(num_features, num_hidden, num_classes)\n",
        "optimizer = optim.Adam(ffnn.parameters(), lr=0.1)\n",
        "\n",
        "for epoch in range(100):\n",
        "    total_loss = 0.0\n",
        "    #Randomly shuffle examples in each epoch\n",
        "    shuffled_i = list(range(0,len(train_Y)))\n",
        "    random.shuffle(shuffled_i)\n",
        "    for i in shuffled_i:\n",
        "        x        = torch.from_numpy(train_X[i]).float()\n",
        "        y_onehot = torch.zeros(num_classes)\n",
        "        y_onehot[train_Y[i]] = 1\n",
        "\n",
        "        ffnn.zero_grad()\n",
        "        logProbs = ffnn.forward(x)\n",
        "        loss = torch.neg(logProbs).dot(y_onehot)\n",
        "        total_loss += loss\n",
        "        \n",
        "        loss.backward()\n",
        "        optimizer.step()\n",
        "    if epoch % 10 == 0:    \n",
        "      print(\"loss on epoch %i: %f\" % (epoch, total_loss))\n",
        "\n",
        "#Evaluate on the training set:\n",
        "num_errors = 0\n",
        "for i in range(len(train_Y)):\n",
        "    x = torch.from_numpy(train_X[i]).float()\n",
        "    y = train_Y[i]\n",
        "    logProbs = ffnn.forward(x)\n",
        "    prediction = torch.argmax(logProbs)\n",
        "    if y != prediction:\n",
        "        num_errors += 1\n",
        "print(\"number of errors: %d\" % num_errors)"
      ],
      "execution_count": null,
      "outputs": [
        {
          "output_type": "stream",
          "text": [
            "loss on epoch 0: 3.899223\n",
            "loss on epoch 10: 2.997317\n",
            "loss on epoch 20: 1.960062\n",
            "loss on epoch 30: 0.609990\n",
            "loss on epoch 40: 0.117339\n",
            "loss on epoch 50: 0.051295\n",
            "loss on epoch 60: 0.031746\n",
            "loss on epoch 70: 0.022180\n",
            "loss on epoch 80: 0.016591\n",
            "loss on epoch 90: 0.012909\n",
            "number of errors: 0\n"
          ],
          "name": "stdout"
        }
      ]
    },
    {
      "cell_type": "markdown",
      "metadata": {
        "id": "k4QDzv6OwlSO"
      },
      "source": [
        "# Neural Bag-of-Words (10 points)\n",
        "\n",
        "Your next task is to implement a neural bag-of-words baseline, NBOW-RAND, as described in [this paper](https://www.aclweb.org/anthology/P15-1162.pdf).  See section 2.1.  Note that the dataset we are using is a sample of the full IMDB dataset to make developing your solution easier, so your performance will be a bit lower than the numbers reported in the paper for the full dataset.\n",
        "\n",
        "# GPUs\n",
        "\n",
        "You probably want to use GPUs here to enable faster training with larger word embeddings and hidden layers (the paper listed above uses 300 dimensions).\n",
        "\n",
        "Colab provides free access to GPUs, which will be useful for rest of the assignment.  To access GPUs, select `Runtime` from the menu at the top of the page, and then choose `Change Runtime Type`; under the `Hardware Accelerator` dropdown select `GPU`.  Note that the free version of Colab does have quotas on how much GPU can be used - you won't need to use GPUs for the first part of the assignment (implementing the Perceptron algorithm).\n",
        "\n",
        "You can check to make sure a GPU is available using the code below:"
      ]
    },
    {
      "cell_type": "code",
      "metadata": {
        "colab": {
          "base_uri": "https://localhost:8080/"
        },
        "id": "TLOCwLE5HEq0",
        "outputId": "5b7edac6-3e2d-471a-b6c7-68027c5ae6bb"
      },
      "source": [
        "gpu_info = !nvidia-smi\n",
        "gpu_info = '\\n'.join(gpu_info)\n",
        "if gpu_info.find('failed') >= 0:\n",
        "  print('Select the Runtime > \"Change runtime type\" menu to enable a GPU accelerator, ')\n",
        "  print('and then re-execute this cell.')\n",
        "else:\n",
        "  print(gpu_info)"
      ],
      "execution_count": null,
      "outputs": [
        {
          "output_type": "stream",
          "text": [
            "Fri Feb  5 01:34:44 2021       \n",
            "+-----------------------------------------------------------------------------+\n",
            "| NVIDIA-SMI 460.39       Driver Version: 418.67       CUDA Version: 10.1     |\n",
            "|-------------------------------+----------------------+----------------------+\n",
            "| GPU  Name        Persistence-M| Bus-Id        Disp.A | Volatile Uncorr. ECC |\n",
            "| Fan  Temp  Perf  Pwr:Usage/Cap|         Memory-Usage | GPU-Util  Compute M. |\n",
            "|                               |                      |               MIG M. |\n",
            "|===============================+======================+======================|\n",
            "|   0  Tesla T4            Off  | 00000000:00:04.0 Off |                    0 |\n",
            "| N/A   50C    P8    10W /  70W |     10MiB / 15079MiB |      0%      Default |\n",
            "|                               |                      |                 ERR! |\n",
            "+-------------------------------+----------------------+----------------------+\n",
            "                                                                               \n",
            "+-----------------------------------------------------------------------------+\n",
            "| Processes:                                                                  |\n",
            "|  GPU   GI   CI        PID   Type   Process name                  GPU Memory |\n",
            "|        ID   ID                                                   Usage      |\n",
            "|=============================================================================|\n",
            "|  No running processes found                                                 |\n",
            "+-----------------------------------------------------------------------------+\n"
          ],
          "name": "stdout"
        }
      ]
    },
    {
      "cell_type": "markdown",
      "metadata": {
        "id": "nCiewAPLG6lK"
      },
      "source": [
        "# Data format\n",
        "\n",
        "In addition to reading in the data in sparse matrix (Numpy CSR) format, which you used in your implementation of the perceptron algorithm, the data loading code above also reads it in another format in `train.XwordList`.  This contains a list of PyTorch arrays consisting of sequences of word IDs corresponding to the content of each document.  The the documents in `train.XwordList` are presented in the same order as the labels (`train.Y`).  For the next part of the assignment, you should work with the data in this new format, which is fairly standard for text data in neural networks.  See below for a few examples on how to access the data in this new format."
      ]
    },
    {
      "cell_type": "code",
      "metadata": {
        "colab": {
          "base_uri": "https://localhost:8080/"
        },
        "id": "ORUdEdld2ZLm",
        "outputId": "15ec8df2-593d-4a2f-ce92-71fc1bab3c33"
      },
      "source": [
        "# Example of using XwordList\n",
        "\n",
        "print(\"Here is the first document:\")\n",
        "print(train.XwordList[0].tolist())\n",
        "\n",
        "print(\"After converting to IDs to words:\")\n",
        "print([train.vocab.GetWord(x) for x in train.XwordList[0].tolist()])\n",
        "\n",
        "print(\"Here is the label:\")\n",
        "print(train.Y[0])"
      ],
      "execution_count": null,
      "outputs": [
        {
          "output_type": "stream",
          "text": [
            "Here is the first document:\n",
            "[126, 70, 117, 136, 6, 728, 908, 293, 9312, 66, 6, 2542, 2, 6, 10096, 23313, 374, 228, 17, 106, 32, 505, 274, 2736, 765, 45, 340, 70, 255, 136, 375, 60, 503, 892, 2, 182, 25587, 17, 60, 12174, 1191, 7836, 1750, 1124, 17, 13687, 70, 107, 17, 254, 51, 182, 989, 2341, 3815, 10504, 45, 6, 892, 70, 40711, 40712, 19, 1191, 2512, 5580, 27, 30, 1300, 2, 456, 70, 106, 19, 6036, 251, 6, 4, 27, 179, 1679, 55, 182, 40713, 55, 2341, 12111, 101, 102, 103, 104, 101, 102, 103, 104, 194, 136, 218, 112, 728, 125, 354, 342, 882, 40714, 66, 143, 17, 6, 13687, 2, 66, 40711, 545, 45, 164, 292, 97, 60, 318, 32, 45, 0, 1, 2, 61, 2255, 45, 40712, 915, 2115, 547, 2449, 2, 1222, 1039, 251, 60, 3248, 2008, 335, 60, 146, 120, 19, 5, 27, 614, 10246, 151, 537, 13545, 27, 107, 357, 39631, 101, 102, 103, 104, 101, 102, 103, 104, 18, 76, 290, 164, 372, 18, 6078, 25, 274, 11, 6, 2844, 2, 55, 6, 642, 40715, 101, 102, 103, 104, 101, 102, 103, 104, 1648, 470, 17, 2909, 70, 762, 45]\n",
            "After converting to IDs to words:\n",
            "['so', ',', 'where', 'are', 'the', 'cannibals', '?', 'those', 'intrigued', 'by', 'the', 'title', 'and', 'the', \"'real\", 'cannibal', \"'\", 'appeal', 'of', 'this', 'film', 'will', 'be', 'let', 'down', '.', 'instead', ',', 'we', 'are', 'shown', 'a', 'strange', 'man', 'and', 'his', 're-visiting', 'of', 'a', 'papua', 'new', 'guinea', 'village', 'full', 'of', 'natives', ',', 'one', 'of', 'whom', 'was', 'his', 'lover', 'several', 'decades', 'prior', '.', 'the', 'man', ',', 'tobias', 'schneebaum', 'is', 'new', 'york', 'jewish', 'as', 'they', 'come', 'and', 'somehow', ',', 'this', 'is', 'intertwined', 'with', 'the', 'documentary', 'as', 'he', 'appears', 'in', 'his', 'yamika', 'in', 'several', 'scenes.', '<', 'br', '/', '>', '<', 'br', '/', '>', 'there', 'are', 'no', 'real', 'cannibals', 'here', ':', 'only', 'stories', 'relayed', 'by', 'some', 'of', 'the', 'natives', 'and', 'by', 'tobias', 'himself', '.', 'not', 'all', 'together', 'a', 'bad', 'film', '.', 'very', 'interesting', 'and', 'great', 'cinematography', '.', 'schneebaum', 'remains', 'highly', 'likable', 'throughout', 'and', 'provides', 'us', 'with', 'a', 'fascinating', 'glimpse', 'into', 'a', 'life', 'that', 'is', 'about', 'as', 'far', 'removed', 'from', 'western', 'civilization', 'as', 'one', 'can', 'get.', '<', 'br', '/', '>', '<', 'br', '/', '>', 'it', \"'s\", 'just', 'not', 'what', 'it', 'claims', 'to', 'be', 'on', 'the', 'cover', 'and', 'in', 'the', 'plot', 'summary.', '<', 'br', '/', '>', '<', 'br', '/', '>', '4', 'out', 'of', '10', ',', 'kids', '.']\n",
            "Here is the label:\n",
            "-1.0\n"
          ],
          "name": "stdout"
        }
      ]
    },
    {
      "cell_type": "markdown",
      "metadata": {
        "id": "DK2ImoAFBL7V"
      },
      "source": [
        "# Suggestions for getting started\n",
        "\n",
        "We recommend following a similar structure as the XOR example above, starting with an [Embedding Layer](https://pytorch.org/docs/stable/nn.html\\#embedding), [ReLU nonlinearity](https://pytorch.org/docs/stable/nn.html\\#relu), a single hidden layer and [Adam optimizer.](https://pytorch.org/docs/stable/optim.html\\#torch.optim.Adam)\n",
        "Please refer to the Pytorch Documentation for more information as necessary.  You can use a batch size of one for this assignment, to simplify your implementation.\n"
      ]
    },
    {
      "cell_type": "code",
      "metadata": {
        "colab": {
          "base_uri": "https://localhost:8080/",
          "height": 472,
          "referenced_widgets": [
            "9503a983fd0149de9a44289ae92c2ab2",
            "3cd497ae7ac445c2afa9e2dd05009e29",
            "ed6f47386c194017a0d82a03747bb7c7",
            "2e168d05e69848a2b454d9f502c955a8",
            "d346838512db435da7b2a46ea5669a30",
            "3564998e33ac4cfe9a3f44dbf654d6a8",
            "ec87179581ce4f0fa92d5254c81cdd2b",
            "180e85a76d944448b899565fe70e45e6",
            "38478b0be28248a594fc31606dc2562f",
            "f5a4e22b07094038b70909f4d65167b2",
            "caa54d0f7faf497cb7cecff931865471",
            "47291d07659748f1b47ef7a532ddbe42",
            "6333e542fab64570ac97f6982f084c6e",
            "73a3101e48124bbf9e43876e0cf66673",
            "227a1e87044143a6ba5d934bc12f5f20",
            "cd5a0f1215514fab9377ce2ec401cc64",
            "4ed27ce972154d779b6c4966cd076cd9",
            "021eccfcc81b4f9886e9df00400a781b",
            "a3d6c4e5d1e44c0b9e7f358bf8973f66",
            "c3788fb015c04c0e83f12a22dbb83607",
            "7ee496b6b3744f2681ca76758713f67c",
            "4d8b3075640d4a52a3574d5f013712bc",
            "0f12747be8df447ba6007c818b7b5fc1",
            "448a44b268264331b49b6594e4698d6a",
            "9eb527e904b74883b4d6df6b3b2980c5",
            "be8fd78c8edd49c08a48382ed26ba4d2",
            "92f8d76a9f6b4251abcae4e5166c6261",
            "bc70176b0a2f42529d97f42691cfcec2",
            "4684fa0aca464cdaa07cacdd46bac992",
            "a478df85ecc54e78b4c216fd3a12f00f",
            "ea395eea14b44149acf095a69530e962",
            "4aac8904926e4de99919cb2ff3357b8b",
            "959e31b16b4e43f0bdeb7c89cadd3303",
            "745c93e63b7147b5905a42e3c7e7d070",
            "49bd268861d6407eab694d23f2c1c3c8",
            "0b332ddcac254d8395a23bf06ab1dfe3",
            "dba9ba9d1d0c4493b40815f49c372e2a",
            "f4419895b05d42b4a5dedd1ce995d4c3",
            "a1784bbb821c4d2ba7129bbbc05dee8c",
            "c37652a02195438daa717b8b60a29f22"
          ]
        },
        "id": "Ex-40V7SMd6L",
        "outputId": "0116f7a9-08b1-4699-f201-3996ad94cbed"
      },
      "source": [
        "import tqdm\n",
        "\n",
        "class NBOW(nn.Module):\n",
        "    def __init__(self, VOCAB_SIZE, DIM_EMB=300, NUM_CLASSES=2):\n",
        "        super(NBOW, self).__init__()\n",
        "        self.NUM_CLASSES=NUM_CLASSES\n",
        "        #TODO: Initialize parameters.\n",
        "        dim_h = 300\n",
        "        print(VOCAB_SIZE)\n",
        "        self.embed = nn.Embedding(VOCAB_SIZE, DIM_EMB)\n",
        "        self.fc1 = nn.Linear(DIM_EMB, dim_h)\n",
        "        self.drop = nn.Dropout(0.1, False)\n",
        "        self.relu1 = nn.ReLU()\n",
        "        self.fc2 = nn.Linear(dim_h, NUM_CLASSES)\n",
        "        self.logSoftmax = nn.LogSoftmax(dim=0)\n",
        "\n",
        "    def forward(self, X):\n",
        "        #TODO: Implement forward computation.\n",
        "        x = self.embed(X)\n",
        "        x = torch.sum(x, dim=0)/x.shape[0]\n",
        "        x = self.fc1(x)\n",
        "        x = self.drop(x)\n",
        "        # x = self.relu1(x)\n",
        "        x = self.fc2(x)\n",
        "        x = self.logSoftmax(x) \n",
        "        return x\n",
        "\n",
        "def EvalNet(data, net):\n",
        "    num_correct = 0\n",
        "    Y = (data.Y + 1.0) / 2.0\n",
        "    X = data.XwordList\n",
        "    for i in range(len(X)):\n",
        "        logProbs = net.forward(X[i].cuda())\n",
        "        pred = torch.argmax(logProbs)\n",
        "        if pred == Y[i]:\n",
        "            num_correct += 1\n",
        "    print(\"Accuracy: %s\" % (float(num_correct) / float(len(X))))\n",
        "\n",
        "def SavePredictions(data, outFile, net):\n",
        "    fOut = open(outFile, 'w')\n",
        "    for i in range(len(data.XwordList)):\n",
        "        logProbs = net.forward(data.XwordList[i].cuda())\n",
        "        pred = torch.argmax(logProbs)\n",
        "        fOut.write(f\"{data.XfileList[i]}\\t{pred}\\n\")\n",
        "\n",
        "def Train(net, X, Y, n_iter, dev):\n",
        "    print(\"Start Training!\")\n",
        "    #TODO: initialize optimizer.\n",
        "    optimizer = optim.Adam(net.parameters())\n",
        "\n",
        "    num_classes = len(set(Y))\n",
        "    \n",
        "    Y=torch.tensor(Y).cuda()\n",
        "\n",
        "    for epoch in range(n_iter):\n",
        "        num_correct = 0\n",
        "        total_loss = 0.0\n",
        "        net.train()   #Put the network into training model\n",
        "        for i in tqdm.notebook.tqdm(range(len(X))):\n",
        "            #TODO: compute gradients, do parameter update, compute loss.\n",
        "            x=X[i].cuda()\n",
        "            y_onehot = torch.zeros(num_classes).cuda()\n",
        "            y_onehot[int(Y[i])] = 1\n",
        "\n",
        "            net.zero_grad()\n",
        "            logProbs = net.forward(x)\n",
        "\n",
        "            loss = torch.neg(logProbs).dot(y_onehot)\n",
        "            total_loss += loss\n",
        "            loss.backward()\n",
        "            optimizer.step()\n",
        "\n",
        "        net.eval()    #Switch to eval mode\n",
        "        print(f\"loss on epoch {epoch} = {total_loss}\")\n",
        "        EvalNet(dev, net)\n",
        "\n",
        "nbow = NBOW(train.vocab.GetVocabSize()).cuda()\n",
        "Train(nbow, train.XwordList, (train.Y + 1.0) / 2.0, 5, dev)"
      ],
      "execution_count": 49,
      "outputs": [
        {
          "output_type": "stream",
          "text": [
            "58162\n",
            "Start Training!\n"
          ],
          "name": "stdout"
        },
        {
          "output_type": "display_data",
          "data": {
            "application/vnd.jupyter.widget-view+json": {
              "model_id": "9503a983fd0149de9a44289ae92c2ab2",
              "version_minor": 0,
              "version_major": 2
            },
            "text/plain": [
              "HBox(children=(FloatProgress(value=0.0, max=7222.0), HTML(value='')))"
            ]
          },
          "metadata": {
            "tags": []
          }
        },
        {
          "output_type": "stream",
          "text": [
            "\n",
            "loss on epoch 0 = 2948.94384765625\n",
            "Accuracy: 0.8451845184518452\n"
          ],
          "name": "stdout"
        },
        {
          "output_type": "display_data",
          "data": {
            "application/vnd.jupyter.widget-view+json": {
              "model_id": "38478b0be28248a594fc31606dc2562f",
              "version_minor": 0,
              "version_major": 2
            },
            "text/plain": [
              "HBox(children=(FloatProgress(value=0.0, max=7222.0), HTML(value='')))"
            ]
          },
          "metadata": {
            "tags": []
          }
        },
        {
          "output_type": "stream",
          "text": [
            "\n",
            "loss on epoch 1 = 1062.552490234375\n",
            "Accuracy: 0.8262826282628263\n"
          ],
          "name": "stdout"
        },
        {
          "output_type": "display_data",
          "data": {
            "application/vnd.jupyter.widget-view+json": {
              "model_id": "4ed27ce972154d779b6c4966cd076cd9",
              "version_minor": 0,
              "version_major": 2
            },
            "text/plain": [
              "HBox(children=(FloatProgress(value=0.0, max=7222.0), HTML(value='')))"
            ]
          },
          "metadata": {
            "tags": []
          }
        },
        {
          "output_type": "stream",
          "text": [
            "\n",
            "loss on epoch 2 = 391.3634948730469\n",
            "Accuracy: 0.8316831683168316\n"
          ],
          "name": "stdout"
        },
        {
          "output_type": "display_data",
          "data": {
            "application/vnd.jupyter.widget-view+json": {
              "model_id": "9eb527e904b74883b4d6df6b3b2980c5",
              "version_minor": 0,
              "version_major": 2
            },
            "text/plain": [
              "HBox(children=(FloatProgress(value=0.0, max=7222.0), HTML(value='')))"
            ]
          },
          "metadata": {
            "tags": []
          }
        },
        {
          "output_type": "stream",
          "text": [
            "\n",
            "loss on epoch 3 = 159.85256958007812\n",
            "Accuracy: 0.8375337533753375\n"
          ],
          "name": "stdout"
        },
        {
          "output_type": "display_data",
          "data": {
            "application/vnd.jupyter.widget-view+json": {
              "model_id": "959e31b16b4e43f0bdeb7c89cadd3303",
              "version_minor": 0,
              "version_major": 2
            },
            "text/plain": [
              "HBox(children=(FloatProgress(value=0.0, max=7222.0), HTML(value='')))"
            ]
          },
          "metadata": {
            "tags": []
          }
        },
        {
          "output_type": "stream",
          "text": [
            "\n",
            "loss on epoch 4 = 136.151123046875\n",
            "Accuracy: 0.8357335733573358\n"
          ],
          "name": "stdout"
        }
      ]
    },
    {
      "cell_type": "markdown",
      "metadata": {
        "id": "Fka0q0f2QfVT"
      },
      "source": [
        "# Evaluate on the test set\n",
        "\n",
        "Once you are happy with your performance on the dev set, run the cell below to evaluate your performance on the test set.  Make sure to download the predictions of your model in `test_pred_nbow.txt`."
      ]
    },
    {
      "cell_type": "code",
      "metadata": {
        "colab": {
          "base_uri": "https://localhost:8080/"
        },
        "id": "s5N7dFX5Q3_R",
        "outputId": "55e4deaa-ea0b-42b4-a399-63a0e8499374"
      },
      "source": [
        "EvalNet(test, nbow)\n",
        "SavePredictions(test, 'test_pred_nbow.txt', nbow)"
      ],
      "execution_count": 50,
      "outputs": [
        {
          "output_type": "stream",
          "text": [
            "Accuracy: 0.8316255884796455\n"
          ],
          "name": "stdout"
        }
      ]
    },
    {
      "cell_type": "markdown",
      "metadata": {
        "id": "uLry9u8kCAQM"
      },
      "source": [
        "# 1-D Convolutional Neural Networks (2 points - optional extra credit)\n",
        "\n",
        "The final task for this assignment is to implement a convolutional neural network for text classification similar to the CNN-rand baseline described by [Kim (2014)](https://www.aclweb.org/anthology/D14-1181.pdf).  We haven't covered CNNs in lecture yet, so this part is optional.  You should use the same data format as the NBOW model above, starting out with an [Embedding](https://pytorch.org/docs/stable/generated/torch.nn.Embedding.html) layer, followed by a [1-D convolution](https://pytorch.org/docs/stable/generated/torch.nn.Conv1d.html), a [max-pooling layer](https://pytorch.org/docs/stable/generated/torch.nn.MaxPool1d.html#torch.nn.MaxPool1d) and a [Dropout layer](https://pytorch.org/docs/stable/generated/torch.nn.Dropout.html).  You should be able to use the same `Train()` function you wrote above."
      ]
    },
    {
      "cell_type": "code",
      "metadata": {
        "colab": {
          "base_uri": "https://localhost:8080/",
          "height": 449,
          "referenced_widgets": [
            "2fb1e2a7e0cd42939846cf9ed8916823",
            "bdb9a83f57224ca1a37446689cc8da3a",
            "1f7f8d288431417488559d5ab0900fb1",
            "9d5cc4945cf04e55a835fd0326a1d91c",
            "1a205e5ca13440f7abfe14b9583ac358",
            "8ca425dba3b4450789fe1de786f1236e",
            "57f778049fd2406cbb5f6bc05d5e6d8b",
            "285f9a3f82c647dca08a149fa57d91b4",
            "391f28c37b5f49799316b5c1aa51494e",
            "6108bd4c32ba499bbb6900818fa989ed",
            "24bd1b45ff46444083ab69dc57273f95",
            "94d37e4e66e043a99b3a2334356ce906",
            "a25c337bd5c04b10be245387cc59aae8",
            "b5179f9e83b84460bb7cc43148fe93b1",
            "9328dfad2d0e46c487f4881389389884",
            "6a5294dae1304e458f80563cce444058",
            "1cc260d3c2084ccdaeef750e55489476",
            "eab61d20489b4b84aa542541cd6016d2",
            "24065b474fd44563897c73e5c8425c88",
            "d644ad35b61c45c68dba580caa323aae",
            "64ef180126f249ad9f62ef07674a3b4d",
            "50951910a7c84405ad3d981374eba06f",
            "e1c315f9a32d472daffd13af3ed193a1",
            "d254de0bb9864e4a9fc4be1a60dc62ee",
            "458a07aace404e41b1c9d730069b11cf",
            "7fa13e4976be4cc6979cc13428a76a5a",
            "57092bd9b09247739aba070f7994a047",
            "3feab65352f54108a6e63591e5d1c012",
            "2d4ca037ae3a4e36a4f1ea9e1bf2c095",
            "3b4a23d410204a0cac77fb011b6032b6",
            "510ecab78ee643fa84b9d5089ae4f529",
            "89da53e1d53d43a3b67c4641a01f8846",
            "cd940d8cc9b842f5943a5fea3d7bf476",
            "4abe0819f7594f2783000f513c89525d",
            "8118834595b4455aa8ea19c3c3709479",
            "09d4cd1cc1064f5c8dbd2068aff5228e",
            "7268e4f45fba4f149e70fd21086d64f4",
            "e682cf2928874f8ba6cfaaedc422e549",
            "882a13bb39684d16978c1743f2048c53",
            "5a85d06e90374e02a83b05ce413d79b9"
          ]
        },
        "id": "-iY3QTL6Npdy",
        "outputId": "df7af3db-0e6d-4d8c-d7f9-187de08db907"
      },
      "source": [
        "import torch.nn.functional as F\n",
        "\n",
        "class CNN(nn.Module):\n",
        "    def __init__(self, VOCAB_SIZE, DIM_EMB=300, NUM_CLASSES=2):\n",
        "        super(CNN, self).__init__()\n",
        "        self.NUM_CLASSES=NUM_CLASSES\n",
        "        #TODO: Initialize parameters.\n",
        "\n",
        "    def forward(self, X):\n",
        "        #TODO: Implement forward computation.\n",
        "        return torch.randn(self.NUM_CLASSES)\n",
        "\n",
        "cnn = CNN(train.vocab.GetVocabSize()).cuda()\n",
        "Train(cnn, train.XwordList, (train.Y + 1.0) / 2.0, 5, dev)"
      ],
      "execution_count": null,
      "outputs": [
        {
          "output_type": "stream",
          "text": [
            "Start Training!\n"
          ],
          "name": "stdout"
        },
        {
          "output_type": "display_data",
          "data": {
            "application/vnd.jupyter.widget-view+json": {
              "model_id": "2fb1e2a7e0cd42939846cf9ed8916823",
              "version_minor": 0,
              "version_major": 2
            },
            "text/plain": [
              "HBox(children=(FloatProgress(value=0.0, max=7222.0), HTML(value='')))"
            ]
          },
          "metadata": {
            "tags": []
          }
        },
        {
          "output_type": "stream",
          "text": [
            "\n",
            "loss on epoch 0 = 0.0\n",
            "Accuracy: 0.495949594959496\n"
          ],
          "name": "stdout"
        },
        {
          "output_type": "display_data",
          "data": {
            "application/vnd.jupyter.widget-view+json": {
              "model_id": "391f28c37b5f49799316b5c1aa51494e",
              "version_minor": 0,
              "version_major": 2
            },
            "text/plain": [
              "HBox(children=(FloatProgress(value=0.0, max=7222.0), HTML(value='')))"
            ]
          },
          "metadata": {
            "tags": []
          }
        },
        {
          "output_type": "stream",
          "text": [
            "\n",
            "loss on epoch 1 = 0.0\n",
            "Accuracy: 0.4900990099009901\n"
          ],
          "name": "stdout"
        },
        {
          "output_type": "display_data",
          "data": {
            "application/vnd.jupyter.widget-view+json": {
              "model_id": "1cc260d3c2084ccdaeef750e55489476",
              "version_minor": 0,
              "version_major": 2
            },
            "text/plain": [
              "HBox(children=(FloatProgress(value=0.0, max=7222.0), HTML(value='')))"
            ]
          },
          "metadata": {
            "tags": []
          }
        },
        {
          "output_type": "stream",
          "text": [
            "\n",
            "loss on epoch 2 = 0.0\n",
            "Accuracy: 0.5027002700270027\n"
          ],
          "name": "stdout"
        },
        {
          "output_type": "display_data",
          "data": {
            "application/vnd.jupyter.widget-view+json": {
              "model_id": "458a07aace404e41b1c9d730069b11cf",
              "version_minor": 0,
              "version_major": 2
            },
            "text/plain": [
              "HBox(children=(FloatProgress(value=0.0, max=7222.0), HTML(value='')))"
            ]
          },
          "metadata": {
            "tags": []
          }
        },
        {
          "output_type": "stream",
          "text": [
            "\n",
            "loss on epoch 3 = 0.0\n",
            "Accuracy: 0.495949594959496\n"
          ],
          "name": "stdout"
        },
        {
          "output_type": "display_data",
          "data": {
            "application/vnd.jupyter.widget-view+json": {
              "model_id": "cd940d8cc9b842f5943a5fea3d7bf476",
              "version_minor": 0,
              "version_major": 2
            },
            "text/plain": [
              "HBox(children=(FloatProgress(value=0.0, max=7222.0), HTML(value='')))"
            ]
          },
          "metadata": {
            "tags": []
          }
        },
        {
          "output_type": "stream",
          "text": [
            "\n",
            "loss on epoch 4 = 0.0\n",
            "Accuracy: 0.5333033303330333\n"
          ],
          "name": "stdout"
        }
      ]
    },
    {
      "cell_type": "markdown",
      "metadata": {
        "id": "6NB1kC0fTCWt"
      },
      "source": [
        "# Evaluate on the test set\n",
        "\n",
        "Once you are happy with your performance on the dev set, run the cell below to evaluate your performance on the test set.  Make sure to download the predictions of your model in `test_pred_nbow.txt`."
      ]
    },
    {
      "cell_type": "code",
      "metadata": {
        "colab": {
          "base_uri": "https://localhost:8080/"
        },
        "id": "lyrQ1Z76TCW9",
        "outputId": "00d58b85-5e69-4ae2-d625-598a6abcce67"
      },
      "source": [
        "EvalNet(test, cnn)\n",
        "SavePredictions(test, 'test_pred_cnn.txt', cnn)"
      ],
      "execution_count": null,
      "outputs": [
        {
          "output_type": "stream",
          "text": [
            "Accuracy: 0.4933536416505123\n"
          ],
          "name": "stdout"
        }
      ]
    },
    {
      "cell_type": "markdown",
      "metadata": {
        "id": "IcKYByOTDwKN"
      },
      "source": [
        "# Gradescope\n",
        "\n",
        "Gradescope allows you to add multiple files to your submission. Please submit this notebook along with the test set prediction:\n",
        "* test_pred_perceptron.txt\n",
        "* test_pred_nbow.txt\n",
        "* test_pred_cnn.txt (optional)\n",
        "* TextClassification_solution.ipynb\n",
        "\n",
        "To download this notebook, go to `File > Download.ipynb`. You can download the predictions from Colab by clicking the folder icon on the left and finding them under Files. \n",
        "\n",
        "Please make sure that you name the files as specified above. You will be able to see the test set accuracy for your predictions. However, the final score will be assigned later based on accuracy and implementation. \n",
        "\n",
        "When submitting the .ipynb notebook, please make sure that all the cells run when executed in order starting from a fresh session. If the code doesn't take too long to run, you can re-run everything with `Runtime -> Restart and run all`\n",
        "\n",
        "You can submit multiple times before the deadline and choose the submission which you want to be graded by going to `Submission History` on gradescope.\n",
        "\n"
      ]
    },
    {
      "cell_type": "code",
      "metadata": {
        "id": "ll5P0dB-ny94"
      },
      "source": [
        ""
      ],
      "execution_count": null,
      "outputs": []
    }
  ]
}