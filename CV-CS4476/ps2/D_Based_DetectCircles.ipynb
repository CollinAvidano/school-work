{
 "cells": [
  {
   "cell_type": "code",
   "execution_count": 6,
   "metadata": {},
   "outputs": [],
   "source": [
    "#export\n",
    "import math\n",
    "import numpy as np\n",
    "from sklearn.cluster import KMeans\n",
    "from skimage.color import rgb2gray\n",
    "from skimage.feature import canny\n",
    "from typing import Tuple\n",
    "import matplotlib.pyplot as plt\n",
    "from imageio import imread, imsave\n",
    "\n",
    "\n",
    "# centers = detect_circles(img, radius, use_gradient) - Given an RGB image img, a target\n",
    "# radius that specifies the size of circle we are looking for, and a flag use_gradient that allows the user\n",
    "# to optionally exploit the gradient direction measured at the edge points. The output centers is an N x\n",
    "# 2 matrix in which each row lists the (x, y) position of a detected circles’ center. Save this function\n",
    "# in a file called submissionDetectCircles.py and submit it.\n",
    "\n",
    "def detect_circles(img : np.ndarray, radius : int, use_gradient : bool):\n",
    "    \n",
    "    if img.ndim > 2:\n",
    "        img = rgb2gray(img)\n",
    "    \n",
    "    edges = canny(img, sigma = 3, low_threshold = 0.05)\n",
    "    # display results\n",
    "    _, ax = plt.subplots()\n",
    "    ax.axis(\"off\")\n",
    "    ax.imshow(edges)\n",
    "\n",
    "    \n",
    "    print(img.shape)\n",
    "    \n",
    "    \n",
    "    degree_counts = 400\n",
    "    vote_percent = 0.6\n",
    "    \n",
    "    \n",
    "    d_max = int(round(math.sqrt(img.shape[0]**2 + img.shape[1]**2))) + 3\n",
    "    degree_bins = np.linspace(0, math.pi, degree_counts)\n",
    "    accumulator = np.zeros((d_max, degree_counts))\n",
    "\n",
    "\n",
    "    for ix,iy in np.ndindex(edges.shape):\n",
    "        if edges[ix, iy] == True:\n",
    "#             print(\"edge pixel:\" + \" ix\" + str(ix) + \" iy\" + str(iy))\n",
    "            for theta_ind in range(degree_bins.shape[0]):\n",
    "                theta = degree_bins[theta_ind]\n",
    "                d = int(round(ix * math.cos(theta) - iy * math.sin(theta)))\n",
    "                accumulator[d, theta_ind] += 1\n",
    "\n",
    "    # ATAN2 is for gradient angle if use gradient is set\n",
    "    # if use gradient is set you  only test the rounded\n",
    "    # theta value from arctan 2 at each edge pixel\n",
    "                        \n",
    "    vote_threshold = int(round(np.max(accumulator) * vote_percent))\n",
    "    \n",
    "    results_d, results_theta = np.where(accumulator > vote_threshold)\n",
    "\n",
    "    print(results_d.shape)\n",
    "    cartesian_results = np.zeros((results_d.shape[0], 2),np.int)\n",
    "    \n",
    "    for i in range(results_d.shape[0]):\n",
    "        cartesian_results[i] = np.array([int(round(results_d[i] * math.cos(results_theta[i]))) ,\n",
    "                                         int(round(results_d[i] * math.sin(results_theta[i])))])\n",
    "\n",
    "    cartesian_results = np.abs(cartesian_results)\n",
    "  \n",
    "    # Testings\n",
    "    print(cartesian_results)\n",
    "    for i in range(cartesian_results.shape[0]):\n",
    "        circle = plt.Circle(cartesian_results[i], radius, color='g', clip_on=True)\n",
    "        ax.add_artist(circle)\n",
    "    \n",
    "    return cartesian_results\n",
    "    \n",
    "                        \n",
    "    "
   ]
  },
  {
   "cell_type": "code",
   "execution_count": 7,
   "metadata": {},
   "outputs": [
    {
     "name": "stdout",
     "output_type": "stream",
     "text": [
      "(594, 471)\n",
      "(22,)\n",
      "[[ 98 147]\n",
      " [177   3]\n",
      " [110 162]\n",
      " [197   5]\n",
      " [183  81]\n",
      " [ 31 199]\n",
      " [226  36]\n",
      " [ 92 211]\n",
      " [231   4]\n",
      " [390 328]\n",
      " [488 151]\n",
      " [137 494]\n",
      " [394 331]\n",
      " [343 384]\n",
      " [494 153]\n",
      " [510  82]\n",
      " [138 500]\n",
      " [139 501]\n",
      " [348 389]\n",
      " [530   0]\n",
      " [518 161]\n",
      " [584   0]]\n"
     ]
    },
    {
     "name": "stderr",
     "output_type": "stream",
     "text": [
      "<ipython-input-7-eebed43cf804>:14: UserWarning: Matplotlib is currently using module://ipykernel.pylab.backend_inline, which is a non-GUI backend, so cannot show the figure.\n",
      "  fig.show()\n"
     ]
    },
    {
     "data": {
      "image/png": "[encoded data removed]",
      "text/plain": [
       "<Figure size 432x288 with 1 Axes>"
      ]
     },
     "metadata": {
      "needs_background": "light"
     },
     "output_type": "display_data"
    },
    {
     "data": {
      "image/png": "[encoded data removed]",
      "text/plain": [
       "<Figure size 432x288 with 1 Axes>"
      ]
     },
     "metadata": {
      "needs_background": "light"
     },
     "output_type": "display_data"
    }
   ],
   "source": [
    "test_img = imread(\"./jupiter.jpg\")\n",
    "\n",
    "test_radius = 10\n",
    "\n",
    "circles = detect_circles(test_img, test_radius, False)\n",
    "\n",
    "fig, ax = plt.subplots() # note we must use plt.subplots, not plt.subplot\n",
    "\n",
    "for i in range(circles.shape[0]):\n",
    "    circle = plt.Circle(circles[i], test_radius, color='g', clip_on=True)\n",
    "    ax.add_artist(circle)\n",
    "    \n",
    "    \n",
    "fig.show()\n",
    "\n",
    "\n"
   ]
  },
  {
   "cell_type": "code",
   "execution_count": null,
   "metadata": {},
   "outputs": [],
   "source": []
  },
  {
   "cell_type": "code",
   "execution_count": null,
   "metadata": {},
   "outputs": [],
   "source": []
  }
 ],
 "metadata": {
  "kernelspec": {
   "display_name": "Python 3",
   "language": "python",
   "name": "python3"
  },
  "language_info": {
   "codemirror_mode": {
    "name": "ipython",
    "version": 3
   },
   "file_extension": ".py",
   "mimetype": "text/x-python",
   "name": "python",
   "nbconvert_exporter": "python",
   "pygments_lexer": "ipython3",
   "version": "3.8.5"
  }
 },
 "nbformat": 4,
 "nbformat_minor": 4
}
